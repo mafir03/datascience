{
 "cells": [
  {
   "cell_type": "code",
   "execution_count": null,
   "metadata": {},
   "outputs": [],
   "source": [
    "# bikin map dengan ketelitian kelurahan dan diberi index\n",
    "# bikin heatmap berdasarkan kolom yang kita udah tentukan\n",
    "# mencari kesimpulan berdasarkan heatmap, lalu menghubungkan dengan aspek yang\n",
    "# kita lihat\n"
   ]
  }
 ],
 "metadata": {
  "language_info": {
   "name": "python"
  },
  "orig_nbformat": 4
 },
 "nbformat": 4,
 "nbformat_minor": 2
}
