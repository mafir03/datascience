{
 "cells": [
  {
   "cell_type": "code",
   "execution_count": 163,
   "metadata": {},
   "outputs": [],
   "source": [
    "import utils\n",
    "import pandas as pd\n",
    "import calendar\n",
    "\n",
    "import matplotlib.pyplot as plt\n",
    "import matplotlib.colors as mcolors\n",
    "import math"
   ]
  },
  {
   "cell_type": "code",
   "execution_count": 164,
   "metadata": {},
   "outputs": [],
   "source": [
    "from sklearn.model_selection import train_test_split\n",
    "from sklearn.linear_model import LinearRegression\n",
    "from sklearn.tree import DecisionTreeRegressor\n",
    "from sklearn.ensemble import RandomForestRegressor, GradientBoostingRegressor\n",
    "from sklearn.svm import SVR\n",
    "from sklearn.neighbors import KNeighborsRegressor\n",
    "from sklearn.neural_network import MLPRegressor\n",
    "from sklearn.metrics import mean_squared_error, r2_score"
   ]
  },
  {
   "cell_type": "code",
   "execution_count": 165,
   "metadata": {},
   "outputs": [],
   "source": [
    "# 1\n",
    "# open files\n",
    "arr = utils.fileList(\"rsc/\")\n",
    "arr.sort()\n",
    "lists = list()\n",
    "unused_columns = ['nilai_kerugian',\n",
    "'jumlah_tempat_pengungsian',\n",
    "'jumlah_pengungsi_tertinggi',\n",
    "# 'jumlah_luka_ringan',\n",
    "'jumlah_luka_berat',\n",
    "'jumlah_hilang',\n",
    "'jumlah_meninggal',\n",
    "'lama_genangan',\n",
    "'ketinggian_air',\n",
    "# 'jumlah_terdampak_jiwa',\n",
    "# 'jumlah_terdampak_kk',\n",
    "# 'jumlah_terdampak_rw',\n",
    "# 'jumlah_terdampak_rt',\n",
    "# 'tanggal_kejadian',\n",
    "'rw']\n",
    "for item in arr:\n",
    "    csv = utils.readCsv(\"rsc/\" + item)\n",
    "    for unused in unused_columns:\n",
    "        csv.drop(unused, axis=1, inplace=True)\n",
    "    csv.drop_duplicates(subset=None, keep='first', inplace=False)\n",
    "    lists.append(csv)"
   ]
  },
  {
   "cell_type": "code",
   "execution_count": 166,
   "metadata": {},
   "outputs": [],
   "source": [
    "# 3\n",
    "nama_benahan = [\"PULOGADUNG\", \"CILIINCING\", \"MAMPANG\"]\n",
    "for bulan in lists:\n",
    "    for i in range(len(nama_benahan)):\n",
    "        if i == 0:\n",
    "            bulan.loc[bulan['kecamatan'] == nama_benahan[i], 'kecamatan'] = \"PULO GADUNG\"\n",
    "        elif i == 1:\n",
    "            bulan.loc[bulan['kecamatan'] == nama_benahan[i], 'kecamatan'] = \"CILINCING\"\n",
    "        elif i == 2:\n",
    "            bulan.loc[bulan['kecamatan'] == nama_benahan[i], 'kecamatan'] = \"MAMPANG PRAPATAN\""
   ]
  },
  {
   "cell_type": "code",
   "execution_count": 167,
   "metadata": {},
   "outputs": [
    {
     "name": "stdout",
     "output_type": "stream",
     "text": [
      "0      tgl. 01 Januari\n",
      "1      tgl. 01 Januari\n",
      "2      tgl. 01 Januari\n",
      "3      tgl. 01 Januari\n",
      "4      tgl. 01 Januari\n",
      "            ...       \n",
      "145    tgl. 01 Januari\n",
      "146    tgl. 01 Januari\n",
      "147    tgl. 01 Januari\n",
      "148    tgl. 01 Januari\n",
      "149    tgl. 01 Januari\n",
      "Name: tanggal_kejadian, Length: 150, dtype: object\n"
     ]
    }
   ],
   "source": [
    "print(lists[0]['tanggal_kejadian'])"
   ]
  },
  {
   "cell_type": "code",
   "execution_count": 168,
   "metadata": {},
   "outputs": [],
   "source": [
    "# 4\n",
    "loc = [10,11]\n",
    "for l in loc:\n",
    "    rows = lists[l]['tanggal_kejadian']\n",
    "    for row in rows:\n",
    "        if \"-\" in row:\n",
    "            dd = str(row[-2:])\n",
    "            lists[l].loc[lists[l]['tanggal_kejadian'] == row, 'tanggal_kejadian'] = dd\n",
    "        "
   ]
  },
  {
   "cell_type": "code",
   "execution_count": 169,
   "metadata": {},
   "outputs": [],
   "source": [
    "# 5\n",
    "# normalize table in tanggal_kejadian column\n",
    "data_normaliasi_tanggal = list()\n",
    "# re.search(r'[0-9]{2}, txt')\n",
    "\n",
    "def ubah_format(kata : str) -> str:\n",
    "    if len(kata) == 1:\n",
    "        return \"0\"+kata\n",
    "    else:\n",
    "        return kata\n",
    "\n",
    "\n",
    "\n",
    "for bulan in lists:\n",
    "    bulan['tanggal_kejadian'] = bulan['tanggal_kejadian'].str.split(',')\n",
    "    bulan = bulan.explode('tanggal_kejadian').reset_index(drop=True)\n",
    "    bulan['tanggal_kejadian'] = bulan['tanggal_kejadian'].apply(lambda kalimat: kalimat.replace(\"tgl. \", \"\"))\n",
    "    bulan['tanggal_kejadian'] = bulan['tanggal_kejadian'].apply(lambda kalimat: kalimat.lstrip()[:2])\n",
    "    bulan['tanggal_kejadian'] = bulan['tanggal_kejadian'].apply(lambda kalimat: ubah_format(kalimat))\n",
    "\n",
    "    \n",
    "\n",
    "    # bulan['tanggal_kejadian'] = bulan['tanggal_kejadian'].apply(lambda kalimat: kalimat.ljust(2, '0'))\n",
    "    # bulan['tanggal_kejadian'] = bulan['tanggal_kejadian'].apply(lambda kalimat.string(): re.search(r'[0-9]{2}', kalimat))\n",
    "    # bulan['tanggal_kejadian'] = bulan['tanggal_kejadian'].str.extract('(\\d+)', expand=False)\n",
    "    data_normaliasi_tanggal.append(bulan)\n"
   ]
  },
  {
   "cell_type": "code",
   "execution_count": 170,
   "metadata": {},
   "outputs": [
    {
     "name": "stdout",
     "output_type": "stream",
     "text": [
      "    kota_administrasi    kecamatan         kelurahan  jumlah_terdampak_rw   \n",
      "165     Jakarta Timur   JATINEGARA        RAWA BUNGA                    3  \\\n",
      "159     Jakarta Timur   JATINEGARA       BIDARA CINA                   10   \n",
      "158     Jakarta Timur   JATINEGARA       BIDARA CINA                   10   \n",
      "31      Jakarta Barat   CENGKARENG             KAPUK                   13   \n",
      "32      Jakarta Barat   CENGKARENG             KAPUK                   13   \n",
      "..                ...          ...               ...                  ...   \n",
      "66      Jakarta Barat     PALMERAH  KOTA BAMBU UTARA                    5   \n",
      "21      Jakarta Utara  PENJARINGAN             PLUIT                    3   \n",
      "20      Jakarta Utara  PENJARINGAN       PENJARINGAN                    1   \n",
      "18      Jakarta Utara  PENJARINGAN       KAPUK MUARA                    6   \n",
      "51      Jakarta Barat  KEBON JERUK       KELAPA DUA                     1   \n",
      "\n",
      "     jumlah_terdampak_rt  jumlah_terdampak_kk  jumlah_terdampak_jiwa   \n",
      "165                   29                 1140                   4560  \\\n",
      "159                   36                 1124                   3577   \n",
      "158                   36                 1124                   3577   \n",
      "31                    13                 1115                   4461   \n",
      "32                    13                 1115                   4461   \n",
      "..                   ...                  ...                    ...   \n",
      "66                     5                    0                      0   \n",
      "21                     3                    0                      0   \n",
      "20                     1                    0                      0   \n",
      "18                     6                    0                      0   \n",
      "51                     1                    0                      0   \n",
      "\n",
      "    tanggal_kejadian  jumlah_luka_ringan  \n",
      "165               01                   0  \n",
      "159               09                1579  \n",
      "158               01                1579  \n",
      "31                01                4461  \n",
      "32                24                4461  \n",
      "..               ...                 ...  \n",
      "66                18                   0  \n",
      "21                24                   0  \n",
      "20                01                   0  \n",
      "18                01                   0  \n",
      "51                18                   0  \n",
      "\n",
      "[194 rows x 9 columns]\n"
     ]
    }
   ],
   "source": [
    "print(data_normaliasi_tanggal[0].sort_values('jumlah_terdampak_kk', ascending=[False]))"
   ]
  },
  {
   "cell_type": "code",
   "execution_count": 171,
   "metadata": {},
   "outputs": [],
   "source": [
    "# 6\n",
    "# Membersihkan Data\n",
    "\n",
    "for month in data_normaliasi_tanggal:\n",
    "    month.drop_duplicates(subset=[\n",
    "        'kota_administrasi', \n",
    "        'kecamatan', \n",
    "        'kelurahan', \n",
    "        'tanggal_kejadian'], \n",
    "        keep='first', \n",
    "        inplace=True\n",
    "        )\n"
   ]
  },
  {
   "cell_type": "code",
   "execution_count": 172,
   "metadata": {},
   "outputs": [],
   "source": [
    "# 7\n",
    "# making a dictionary of kelurahan, where kecamatan : [kelurahan]\n",
    "kecamatan = list()\n",
    "kelurahan = dict()\n",
    "for bulan in data_normaliasi_tanggal:\n",
    "    kecamatan_bulan_n = bulan['kecamatan'].drop_duplicates()\n",
    "    for i in kecamatan_bulan_n:\n",
    "        if i not in kecamatan:\n",
    "            kecamatan.append(i)\n",
    "    num = int()\n",
    "    for enum, kec in enumerate(kecamatan_bulan_n):\n",
    "        kelurahan[kec] = list(bulan.loc[bulan['kecamatan'] == kec, 'kelurahan'].drop_duplicates())"
   ]
  },
  {
   "cell_type": "code",
   "execution_count": 173,
   "metadata": {},
   "outputs": [
    {
     "name": "stderr",
     "output_type": "stream",
     "text": [
      "C:\\Users\\ACER\\AppData\\Local\\Temp\\ipykernel_7460\\2737978392.py:13: FutureWarning: Calling int on a single element Series is deprecated and will raise a TypeError in the future. Use int(ser.iloc[0]) instead\n",
      "  j_rw += int(datas['jumlah_terdampak_rw'])\n",
      "C:\\Users\\ACER\\AppData\\Local\\Temp\\ipykernel_7460\\2737978392.py:14: FutureWarning: Calling int on a single element Series is deprecated and will raise a TypeError in the future. Use int(ser.iloc[0]) instead\n",
      "  j_rt += int(datas['jumlah_terdampak_rt'])\n",
      "C:\\Users\\ACER\\AppData\\Local\\Temp\\ipykernel_7460\\2737978392.py:15: FutureWarning: Calling int on a single element Series is deprecated and will raise a TypeError in the future. Use int(ser.iloc[0]) instead\n",
      "  j_kk += int(datas['jumlah_terdampak_kk'])\n",
      "C:\\Users\\ACER\\AppData\\Local\\Temp\\ipykernel_7460\\2737978392.py:16: FutureWarning: Calling int on a single element Series is deprecated and will raise a TypeError in the future. Use int(ser.iloc[0]) instead\n",
      "  j_lk_ringan += int(datas['jumlah_luka_ringan'])\n",
      "C:\\Users\\ACER\\AppData\\Local\\Temp\\ipykernel_7460\\2737978392.py:17: FutureWarning: Calling int on a single element Series is deprecated and will raise a TypeError in the future. Use int(ser.iloc[0]) instead\n",
      "  j_jiwa += int(datas['jumlah_terdampak_jiwa'])\n"
     ]
    }
   ],
   "source": [
    "rows = list()\n",
    "for enum, bulan in enumerate(data_normaliasi_tanggal, 1):\n",
    "    for kec in kecamatan:\n",
    "        j_rw = int()\n",
    "        j_rt = int()\n",
    "        j_kk = int()\n",
    "        j_lk_ringan = int()\n",
    "        j_jiwa = int()\n",
    "        j_kejadian_banjir = int()\n",
    "        for kel in kelurahan[kec]:\n",
    "            datas = bulan[bulan['kelurahan'] == kel]\n",
    "            if len(datas) == 1:\n",
    "                j_rw += int(datas['jumlah_terdampak_rw'])\n",
    "                j_rt += int(datas['jumlah_terdampak_rt'])\n",
    "                j_kk += int(datas['jumlah_terdampak_kk'])\n",
    "                j_lk_ringan += int(datas['jumlah_luka_ringan'])\n",
    "                j_jiwa += int(datas['jumlah_terdampak_jiwa'])\n",
    "                j_kejadian_banjir += 1\n",
    "            elif len(datas) > 1:\n",
    "                for index, row in datas.iterrows():\n",
    "                    j_rw += int(row['jumlah_terdampak_rw'])\n",
    "                    j_rt += int(row['jumlah_terdampak_rt'])\n",
    "                    j_kk += int(row['jumlah_terdampak_kk'])\n",
    "                    j_lk_ringan += int(row['jumlah_luka_ringan'])\n",
    "                    j_jiwa += int(row['jumlah_terdampak_jiwa'])\n",
    "                    break\n",
    "                j_kejadian_banjir += len(datas)\n",
    "        if j_kejadian_banjir > 0:\n",
    "            row = pd.Series([kec, j_rw, j_rt, j_kk, j_lk_ringan ,j_jiwa, j_kejadian_banjir], index=['kecamatan', 'jumlah_terdampak_rw', 'jumlah_terdampak_rt', 'jumlah_terdampak_kk','jumlah_luka_ringan', 'jumlah_terdampak_jiwa', 'jumlah_kejadian_banjir'])\n",
    "            rows.append(row)\n",
    "\n"
   ]
  },
  {
   "cell_type": "code",
   "execution_count": 174,
   "metadata": {},
   "outputs": [],
   "source": [
    "resDict = dict()\n",
    "for row in rows:\n",
    "    try:\n",
    "        resDict[row['kecamatan']]\n",
    "    except KeyError:\n",
    "        resDict[row['kecamatan']] = { 'kecamatan': row['kecamatan'],\n",
    "                                     'jumlah_terdampak_rw': row['jumlah_terdampak_rw'],\n",
    "                                     'jumlah_terdampak_rt': row['jumlah_terdampak_rt'],\n",
    "                                     'jumlah_terdampak_kk': row['jumlah_terdampak_kk'],\n",
    "                                     'jumlah_terdampak_jiwa': row['jumlah_terdampak_jiwa'],\n",
    "                                     'jumlah_luka_ringan': row['jumlah_luka_ringan'],\n",
    "                                     'jumlah_kejadian_banjir': row['jumlah_kejadian_banjir'],\n",
    "                                     }\n",
    "    else:\n",
    "        resDict[row['kecamatan']]['jumlah_terdampak_rw'] += row['jumlah_terdampak_rw']\n",
    "        resDict[row['kecamatan']]['jumlah_terdampak_rt'] += row['jumlah_terdampak_rt']\n",
    "        resDict[row['kecamatan']]['jumlah_terdampak_kk'] += row['jumlah_terdampak_kk']\n",
    "        resDict[row['kecamatan']]['jumlah_terdampak_jiwa'] += row['jumlah_terdampak_jiwa']\n",
    "        resDict[row['kecamatan']]['jumlah_luka_ringan'] += row['jumlah_luka_ringan']\n",
    "        resDict[row['kecamatan']]['jumlah_kejadian_banjir'] += row['jumlah_kejadian_banjir']"
   ]
  },
  {
   "cell_type": "code",
   "execution_count": 187,
   "metadata": {},
   "outputs": [
    {
     "name": "stdout",
     "output_type": "stream",
     "text": [
      "{'kecamatan': 'JOHAR BARU', 'jumlah_terdampak_rw': 7, 'jumlah_terdampak_rt': 7, 'jumlah_terdampak_kk': 35, 'jumlah_terdampak_jiwa': 140, 'jumlah_luka_ringan': 140, 'jumlah_kejadian_banjir': 4}\n"
     ]
    }
   ],
   "source": [
    "print(resDict['JOHAR BARU'])"
   ]
  },
  {
   "cell_type": "code",
   "execution_count": 188,
   "metadata": {},
   "outputs": [],
   "source": [
    "for_modeling = pd.DataFrame(resDict)\n"
   ]
  },
  {
   "cell_type": "code",
   "execution_count": 189,
   "metadata": {},
   "outputs": [],
   "source": [
    "for_modeling = for_modeling.T"
   ]
  },
  {
   "cell_type": "code",
   "execution_count": 194,
   "metadata": {},
   "outputs": [],
   "source": [
    "for_modeling = for_modeling.reset_index()"
   ]
  },
  {
   "cell_type": "code",
   "execution_count": 195,
   "metadata": {},
   "outputs": [],
   "source": [
    "for_modeling.drop('index', axis=1, inplace=True)"
   ]
  },
  {
   "cell_type": "code",
   "execution_count": 196,
   "metadata": {},
   "outputs": [
    {
     "data": {
      "text/html": [
       "<div>\n",
       "<style scoped>\n",
       "    .dataframe tbody tr th:only-of-type {\n",
       "        vertical-align: middle;\n",
       "    }\n",
       "\n",
       "    .dataframe tbody tr th {\n",
       "        vertical-align: top;\n",
       "    }\n",
       "\n",
       "    .dataframe thead th {\n",
       "        text-align: right;\n",
       "    }\n",
       "</style>\n",
       "<table border=\"1\" class=\"dataframe\">\n",
       "  <thead>\n",
       "    <tr style=\"text-align: right;\">\n",
       "      <th></th>\n",
       "      <th>kecamatan</th>\n",
       "      <th>jumlah_terdampak_rw</th>\n",
       "      <th>jumlah_terdampak_rt</th>\n",
       "      <th>jumlah_terdampak_kk</th>\n",
       "      <th>jumlah_terdampak_jiwa</th>\n",
       "      <th>jumlah_luka_ringan</th>\n",
       "      <th>jumlah_kejadian_banjir</th>\n",
       "    </tr>\n",
       "  </thead>\n",
       "  <tbody>\n",
       "    <tr>\n",
       "      <th>0</th>\n",
       "      <td>JOHAR BARU</td>\n",
       "      <td>7</td>\n",
       "      <td>7</td>\n",
       "      <td>35</td>\n",
       "      <td>140</td>\n",
       "      <td>140</td>\n",
       "      <td>4</td>\n",
       "    </tr>\n",
       "    <tr>\n",
       "      <th>1</th>\n",
       "      <td>KEMAYORAN</td>\n",
       "      <td>26</td>\n",
       "      <td>31</td>\n",
       "      <td>0</td>\n",
       "      <td>0</td>\n",
       "      <td>0</td>\n",
       "      <td>11</td>\n",
       "    </tr>\n",
       "    <tr>\n",
       "      <th>2</th>\n",
       "      <td>SAWAH BESAR</td>\n",
       "      <td>15</td>\n",
       "      <td>17</td>\n",
       "      <td>155</td>\n",
       "      <td>625</td>\n",
       "      <td>1075</td>\n",
       "      <td>8</td>\n",
       "    </tr>\n",
       "    <tr>\n",
       "      <th>3</th>\n",
       "      <td>TANAH ABANG</td>\n",
       "      <td>6</td>\n",
       "      <td>14</td>\n",
       "      <td>0</td>\n",
       "      <td>0</td>\n",
       "      <td>1368</td>\n",
       "      <td>7</td>\n",
       "    </tr>\n",
       "    <tr>\n",
       "      <th>4</th>\n",
       "      <td>CILINCING</td>\n",
       "      <td>29</td>\n",
       "      <td>42</td>\n",
       "      <td>604</td>\n",
       "      <td>1717</td>\n",
       "      <td>1905</td>\n",
       "      <td>19</td>\n",
       "    </tr>\n",
       "  </tbody>\n",
       "</table>\n",
       "</div>"
      ],
      "text/plain": [
       "     kecamatan jumlah_terdampak_rw jumlah_terdampak_rt jumlah_terdampak_kk   \n",
       "0   JOHAR BARU                   7                   7                  35  \\\n",
       "1    KEMAYORAN                  26                  31                   0   \n",
       "2  SAWAH BESAR                  15                  17                 155   \n",
       "3  TANAH ABANG                   6                  14                   0   \n",
       "4    CILINCING                  29                  42                 604   \n",
       "\n",
       "  jumlah_terdampak_jiwa jumlah_luka_ringan jumlah_kejadian_banjir  \n",
       "0                   140                140                      4  \n",
       "1                     0                  0                     11  \n",
       "2                   625               1075                      8  \n",
       "3                     0               1368                      7  \n",
       "4                  1717               1905                     19  "
      ]
     },
     "execution_count": 196,
     "metadata": {},
     "output_type": "execute_result"
    }
   ],
   "source": [
    "for_modeling.head()"
   ]
  },
  {
   "cell_type": "code",
   "execution_count": null,
   "metadata": {},
   "outputs": [],
   "source": [
    "# # 9\n",
    "# # kasus banjir per-kelurahan\n",
    "# kasus_banjir_per_bulan = list()\n",
    "# banjir_per_kelurahan = dict()\n",
    "# for bulan in lists: \n",
    "#     for kec in kecamatan:\n",
    "#         for kel in kelurahan[kec]:\n",
    "#             kejadian = len(bulan[bulan['kelurahan'] == kel])\n",
    "#             # print(kel + \" \" + str(kejadian))\n",
    "#             banjir_per_kelurahan[kel] = kejadian\n",
    "#     banjir_per_kelurahan = pd.Series(banjir_per_kelurahan).reset_index()\n",
    "#     banjir_per_kelurahan.columns = ['kelurahan', 'kejadian']\n",
    "#     kasus_banjir_per_bulan.append(banjir_per_kelurahan)\n",
    "#     banjir_per_kelurahan = dict()"
   ]
  },
  {
   "cell_type": "code",
   "execution_count": null,
   "metadata": {},
   "outputs": [],
   "source": [
    "# kasus_banjir_per_bulan_kecamatan = list()"
   ]
  },
  {
   "cell_type": "code",
   "execution_count": null,
   "metadata": {},
   "outputs": [],
   "source": [
    "# for setiap_bulan in kasus_banjir_per_bulan:\n",
    "#     kasus_banjir_bulan_n_kecamatan = dict()\n",
    "#     for kec in kecamatan:\n",
    "#         total = int()\n",
    "#         kels = kelurahan[kec]\n",
    "#         # for kel in kels:\n",
    "#             total += setiap_bulan.loc[setiap_bulan['kelurahan'] == kel, 'kejadian'].values[0]\n",
    "#         kasus_banjir_bulan_n_kecamatan[kec] = total\n",
    "#     banjir = pd.Series(kasus_banjir_bulan_n_kecamatan).reset_index()\n",
    "#     banjir.columns = ['kecamatan', 'kejadian']\n",
    "#     kasus_banjir_per_bulan_kecamatan.append(banjir)\n"
   ]
  },
  {
   "cell_type": "code",
   "execution_count": null,
   "metadata": {},
   "outputs": [],
   "source": [
    "def printBarPlot(df, column1, column2, color=True):\n",
    "\n",
    "    df_filtered = df[df[column2] != 0]\n",
    "\n",
    "    df_sorted = df_filtered.sort_values(column2)\n",
    "\n",
    "    if color:\n",
    "        min_value = df_sorted[column2].min()\n",
    "        max_value = df_sorted[column2].max()\n",
    "\n",
    "        norm = mcolors.Normalize(vmin=min_value, vmax=max_value)\n",
    "        color_map = plt.cm.get_cmap('viridis')\n",
    "\n",
    "        plt.figure(figsize=(10, 6))\n",
    "        plt.bar(df_sorted[column1], df_sorted[column2], color=color_map(norm(df_sorted[column2])))\n",
    "\n",
    "        sm = plt.cm.ScalarMappable(cmap=color_map, norm=norm)\n",
    "        cbar = plt.colorbar(sm)\n",
    "        cbar.set_label(column2)\n",
    "        \n",
    "    else:\n",
    "        plt.figure(figsize=(10, 6))\n",
    "        plt.bar(df_sorted[column1], df_sorted[column2])\n",
    "\n",
    "    plt.xlabel(column1)\n",
    "    plt.ylabel(column2)\n",
    "    plt.xticks(rotation='vertical')\n",
    "    plt.show()"
   ]
  },
  {
   "cell_type": "code",
   "execution_count": null,
   "metadata": {},
   "outputs": [],
   "source": [
    "def printBarPlot2(df, column1, column2):\n",
    "    \n",
    "    month_order = [month for month in calendar.month_name if month != '']\n",
    "    month_order = [month.capitalize() for month in month_order]\n",
    "\n",
    "    df_sorted = df.iloc[df[column1].map(lambda x: month_order.index(x.capitalize())).argsort()]\n",
    "\n",
    "    df_sorted= df_sorted[df_sorted[column2] != 0]\n",
    "\n",
    "\n",
    "    plt.figure(figsize=(10, 6))\n",
    "    plt.bar(df_sorted[column1], df_sorted[column2])\n",
    "\n",
    "\n",
    "    plt.xlabel(column1)\n",
    "    plt.ylabel(column2)\n",
    "    plt.xticks(rotation='vertical')\n",
    "    plt.show()"
   ]
  },
  {
   "cell_type": "code",
   "execution_count": null,
   "metadata": {},
   "outputs": [],
   "source": [
    "\n",
    "def printBarPlot3(column1, column2, monthList, *dfs):\n",
    "    num_plots = min(len(dfs), 12)\n",
    "    rows = min(num_plots, 6)\n",
    "    cols = math.ceil(num_plots / rows)\n",
    "\n",
    "    fig, axes = plt.subplots(rows, cols, figsize=(24, 24))\n",
    "    fig.suptitle('Kasus Banjir Jakarta pada Musim Hujan', fontsize=14)\n",
    "\n",
    "    for i, df in enumerate(dfs[:num_plots]):\n",
    "        row = i // cols\n",
    "        col = i % cols\n",
    "        ax = axes[row][col]\n",
    "\n",
    "        df_filtered = df[df[column2] != 0]\n",
    "        df_sorted = df_filtered.sort_values(column2)\n",
    "\n",
    "        ax.bar(df_sorted[column1], df_sorted[column2])\n",
    "\n",
    "        ax.set_ylabel(column2)\n",
    "        ax.set_title(f'Bulan {calendar.month_name[monthList[i] + 1]}')\n",
    "        ax.set_xticklabels(df_sorted[column1], rotation='vertical')  # Rotating x-axis labels vertically\n",
    "\n",
    "    plt.tight_layout()\n",
    "    plt.show()\n"
   ]
  },
  {
   "cell_type": "code",
   "execution_count": null,
   "metadata": {},
   "outputs": [],
   "source": [
    "\n",
    "# printBarPlot3('kecamatan', 'kejadian',[0,1,2,3,4,5,6,7,8,9,10,11], *kasus_banjir_per_bulan_kecamatan)"
   ]
  },
  {
   "cell_type": "code",
   "execution_count": null,
   "metadata": {},
   "outputs": [],
   "source": [
    "# all_combined = pd.DataFrame(columns=['kecamatan', 'bulan', 'jumlah_kejadian'])\n",
    "# for enum, bulan in enumerate(kasus_banjir_per_bulan_kecamatan, 1):\n",
    "#     for index, row in bulan.iterrows():\n",
    "#         all_combined.loc[-1] = [row['kecamatan'],enum,  row['kejadian']]\n",
    "#         all_combined.index += 1\n",
    "#         all_combined = all_combined.sort_index()\n"
   ]
  },
  {
   "cell_type": "code",
   "execution_count": null,
   "metadata": {},
   "outputs": [],
   "source": [
    "# all_combined.sort_values(by='jumlah_kejadian', ascending=[False])"
   ]
  },
  {
   "cell_type": "code",
   "execution_count": 213,
   "metadata": {},
   "outputs": [
    {
     "name": "stdout",
     "output_type": "stream",
     "text": [
      "Model: Linear Regression\n",
      "Mean Squared Error: 6.125686963354041\n",
      "R^2 Score: 0.8191761501342284\n",
      "---------------------\n",
      "Model: Decision Tree\n",
      "Mean Squared Error: 3.673611111111111\n",
      "R^2 Score: 0.8915588556851312\n",
      "---------------------\n",
      "Model: Random Forest\n",
      "Mean Squared Error: 2.002873072562357\n",
      "R^2 Score: 0.9408772890387934\n",
      "---------------------\n",
      "Model: Gradient Boosting\n",
      "Mean Squared Error: 3.8344161915646726\n",
      "R^2 Score: 0.8868120584851537\n",
      "---------------------\n",
      "Model: Support Vector Machine\n",
      "Mean Squared Error: 29.279476739457387\n",
      "R^2 Score: 0.13570057729735863\n",
      "---------------------\n",
      "Model: K-Nearest Neighbors\n",
      "Mean Squared Error: 26.724444444444444\n",
      "R^2 Score: 0.21112244897959187\n",
      "---------------------\n",
      "Model: Multi-layer Perceptron\n",
      "Mean Squared Error: 1591.1770846624615\n",
      "R^2 Score: -45.969877499147\n",
      "---------------------\n"
     ]
    }
   ],
   "source": [
    "\n",
    "\n",
    "# Load the dataframe\n",
    "df = for_modeling\n",
    "\n",
    "# Split the data into features and target variable\n",
    "X = df[['jumlah_terdampak_rw', 'jumlah_terdampak_rt','jumlah_terdampak_kk', 'jumlah_terdampak_jiwa', 'jumlah_luka_ringan']]\n",
    "y = df['jumlah_kejadian_banjir']\n",
    "\n",
    "# One-hot encode the city column\n",
    "# X = pd.get_dummies(X)\n",
    "\n",
    "# Split the data into training and testing sets\n",
    "X_train, X_test, y_train, y_test = train_test_split(X, y, test_size=0.2, random_state=15)\n",
    "\n",
    "# Initialize and train the models\n",
    "models = {\n",
    "    'Linear Regression': LinearRegression(),\n",
    "    'Decision Tree': DecisionTreeRegressor(),\n",
    "    'Random Forest': RandomForestRegressor(),\n",
    "    'Gradient Boosting': GradientBoostingRegressor(),\n",
    "    'Support Vector Machine': SVR(),\n",
    "    'K-Nearest Neighbors': KNeighborsRegressor(),\n",
    "    'Multi-layer Perceptron': MLPRegressor()\n",
    "}\n",
    "\n",
    "for name, model in models.items():\n",
    "    model.fit(X_train, y_train)\n",
    "    y_pred = model.predict(X_test)\n",
    "    \n",
    "    # Evaluate the model\n",
    "    mse = mean_squared_error(y_test, y_pred)\n",
    "    r2 = r2_score(y_test, y_pred)\n",
    "    \n",
    "    print(f'Model: {name}')\n",
    "    print(f'Mean Squared Error: {mse}')\n",
    "    print(f'R^2 Score: {r2}')\n",
    "    print('---------------------')"
   ]
  },
  {
   "cell_type": "code",
   "execution_count": 214,
   "metadata": {},
   "outputs": [
    {
     "name": "stdout",
     "output_type": "stream",
     "text": [
      "[-27.35158721 110.53954601   2.12531437  14.72773398  65.36961712\n",
      "  21.52215898   1.40516701   1.2253965    0.6787427 ]\n"
     ]
    }
   ],
   "source": [
    "print(y_pred)"
   ]
  },
  {
   "cell_type": "code",
   "execution_count": null,
   "metadata": {},
   "outputs": [],
   "source": [
    "# Load the dataframe\n",
    "df = for_modeling\n",
    "\n",
    "# Split the data into features and target variable\n",
    "X = df[['kecamatan', 'jumlah_terdampak_rw', 'jumlah_terdampak_rt','jumlah_terdampak_kk', 'jumlah_terdampak_jiwa']]\n",
    "y = df['jumlah_kejadian_banjir']\n",
    "\n",
    "# One-hot encode the city column\n",
    "X = pd.get_dummies(X)\n",
    "\n",
    "# Split the data into training and testing sets\n",
    "X_train, X_test, y_train, y_test = train_test_split(X, y, test_size=0.2, random_state=42)\n",
    "\n",
    "# Initialize and train the models\n",
    "models = {\n",
    "    'Linear Regression': LinearRegression(),\n",
    "    'Decision Tree': DecisionTreeRegressor(),\n",
    "    'Random Forest': RandomForestRegressor(),\n",
    "    'Gradient Boosting': GradientBoostingRegressor(),\n",
    "    'Support Vector Machine': SVR(),\n",
    "    'K-Nearest Neighbors': KNeighborsRegressor(),\n",
    "    'Multi-layer Perceptron': MLPRegressor()\n",
    "}\n",
    "\n",
    "for name, model in models.items():\n",
    "    model.fit(X_train, y_train)\n",
    "    y_pred = model.predict(X_test)\n",
    "    \n",
    "    # Evaluate the model\n",
    "    mse = mean_squared_error(y_test, y_pred)\n",
    "    r2 = r2_score(y_test, y_pred)\n",
    "    \n",
    "    print(f'Model: {name}')\n",
    "    print(f'Mean Squared Error: {mse}')\n",
    "    print(f'R^2 Score: {r2}')\n",
    "    print('---------------------')"
   ]
  }
 ],
 "metadata": {
  "kernelspec": {
   "display_name": "Python 3",
   "language": "python",
   "name": "python3"
  },
  "language_info": {
   "codemirror_mode": {
    "name": "ipython",
    "version": 3
   },
   "file_extension": ".py",
   "mimetype": "text/x-python",
   "name": "python",
   "nbconvert_exporter": "python",
   "pygments_lexer": "ipython3",
   "version": "3.10.6"
  },
  "orig_nbformat": 4
 },
 "nbformat": 4,
 "nbformat_minor": 2
}
