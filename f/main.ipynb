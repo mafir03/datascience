{
 "cells": [
  {
   "cell_type": "code",
   "execution_count": 1,
   "metadata": {},
   "outputs": [],
   "source": [
    "import utils\n",
    "import pandas as pd\n",
    "import calendar"
   ]
  },
  {
   "cell_type": "code",
   "execution_count": 2,
   "metadata": {},
   "outputs": [],
   "source": [
    "pd.set_option('display.max_columns', None)"
   ]
  },
  {
   "cell_type": "code",
   "execution_count": 3,
   "metadata": {},
   "outputs": [],
   "source": [
    "# open files\n",
    "arr = utils.fileList(\"rsc/\")\n",
    "arr.sort()\n",
    "lists = list()\n",
    "for item in arr:\n",
    "    csv = utils.readCsv(\"rsc/\" + item)\n",
    "    csv.drop('rw', axis=1, inplace=True)\n",
    "    csv.drop(\"jumlah_terdampak_rw\", axis=1, inplace=True)\n",
    "    csv.drop(\"jumlah_terdampak_rt\", axis=1, inplace=True)\n",
    "    csv.drop_duplicates(subset=None, keep='first', inplace=False)\n",
    "    lists.append(csv)"
   ]
  },
  {
   "cell_type": "code",
   "execution_count": 5,
   "metadata": {},
   "outputs": [],
   "source": [
    "nama_benahan = [\"PULOGADUNG\", \"CILIINCING\", \"MAMPANG\"]\n",
    "for bulan in lists:\n",
    "    for i in range(len(nama_benahan)):\n",
    "        if i == 0:\n",
    "            bulan[bulan['kecamatan'] == nama_benahan[i]] = \"PULO GADUNG\"\n",
    "        elif i == 1:\n",
    "            bulan[bulan['kecamatan'] == nama_benahan[i]] = \"CILINCING\"\n",
    "        elif i == 2:\n",
    "            bulan[bulan['kecamatan'] == nama_benahan[i]] = \"MAMPANG PRAPATAN\""
   ]
  },
  {
   "cell_type": "code",
   "execution_count": 6,
   "metadata": {},
   "outputs": [],
   "source": [
    "# normalize table in tanggal_kejadian column\n",
    "new_list = list()\n",
    "for bulan in lists:\n",
    "    bulan['tanggal_kejadian'] = bulan['tanggal_kejadian'].str.split(',')\n",
    "    bulan = bulan.explode('tanggal_kejadian').reset_index(drop=True)\n",
    "    bulan['tanggal_kejadian'] = bulan['tanggal_kejadian'].str.extract('(\\d+)', expand=False)\n",
    "    new_list.append(bulan)\n"
   ]
  },
  {
   "cell_type": "code",
   "execution_count": 8,
   "metadata": {},
   "outputs": [],
   "source": [
    "# making a dictionary of kelurahan, where kecamatan : [kelurahan]\n",
    "kecamatan = list()\n",
    "kelurahan = dict()\n",
    "for bulan in new_list:\n",
    "    kecamatan_bulan_n = bulan['kecamatan'].drop_duplicates()\n",
    "    for i in kecamatan_bulan_n:\n",
    "        if i not in kecamatan:\n",
    "            kecamatan.append(i)\n",
    "    num = int()\n",
    "    for enum, kec in enumerate(kecamatan_bulan_n):\n",
    "        kelurahan[kec] = list(bulan.loc[bulan['kecamatan'] == kec, 'kelurahan'].drop_duplicates())"
   ]
  },
  {
   "cell_type": "code",
   "execution_count": 9,
   "metadata": {},
   "outputs": [
    {
     "name": "stdout",
     "output_type": "stream",
     "text": [
      "['JOHAR BARU', 'KEMAYORAN', 'SAWAH BESAR', 'TANAH ABANG', 'CILINCING', 'KELAPA GADING', 'KOJA', 'PENJARINGAN', 'PADEMANGAN', 'CENGKARENG', 'GROGOL PETAMBURAN', 'KALIDERES', 'KEBON JERUK', 'KEMBANGAN', 'PALMERAH', 'CILANDAK', 'JAGAKARSA', 'KEBAYORAN BARU', 'KEBAYORAN LAMA', 'MAMPANG PRAPATAN', 'PANCORAN', 'PASAR MINGGU', 'PESANGGRAHAN', 'SETIABUDI', 'TEBET', 'CAKUNG', 'CIPAYUNG', 'CIRACAS', 'DUREN SAWIT', 'JATINEGARA', 'KRAMAT JATI', 'MAKASAR', 'MATRAMAN', 'PASAR REBO', 'PULO GADUNG', 'SENEN', 'MENTENG', 'CEMPAKA PUTIH', 'GAMBIR', 'TANJUNG PRIOK', 'TAMAN SARI', 'TAMBORA', 'KEPULAUAN SERIBU SELATAN', 'KEPULAUAN SERIBU UTARA']\n"
     ]
    }
   ],
   "source": [
    "print(kecamatan)"
   ]
  },
  {
   "cell_type": "code",
   "execution_count": 10,
   "metadata": {},
   "outputs": [
    {
     "name": "stdout",
     "output_type": "stream",
     "text": [
      "80\n"
     ]
    }
   ],
   "source": [
    "total = int()\n",
    "for val in kelurahan.values():\n",
    "    total += len(val)\n",
    "print(total)"
   ]
  },
  {
   "cell_type": "code",
   "execution_count": null,
   "metadata": {},
   "outputs": [],
   "source": [
    "for enum, kel in enumerate(kelurahan, 1):\n",
    "    print(\"bulan \" + str(calendar.month_name[enum]))\n",
    "    for kec in kecamatan:\n",
    "        print(\"kecamatan : \" + kec)\n",
    "        print(\"kelurahan : \" + \", \".join(kelurahan[kec]))\n",
    "        print(\"_________\")\n",
    "        "
   ]
  },
  {
   "cell_type": "code",
   "execution_count": 14,
   "metadata": {},
   "outputs": [],
   "source": [
    "# kasus banjir per-kelurahan\n",
    "kasus_banjir_per_bulan = list()\n",
    "banjir_per_kelurahan = dict()\n",
    "\n",
    "for bulan in new_list: \n",
    "    for kec in kecamatan:\n",
    "        for kel in kelurahan[kec]:\n",
    "            kejadian = len(bulan[bulan['kelurahan'] == kel])\n",
    "            # print(kel + \" \" + str(kejadian))\n",
    "            banjir_per_kelurahan[kel] = kejadian\n",
    "    banjir_per_kelurahan = pd.Series(banjir_per_kelurahan).reset_index()\n",
    "    banjir_per_kelurahan.columns = ['kelurahan', 'kejadian']\n",
    "    kasus_banjir_per_bulan.append(banjir_per_kelurahan)\n",
    "    banjir_per_kelurahan = dict()"
   ]
  },
  {
   "cell_type": "code",
   "execution_count": 15,
   "metadata": {},
   "outputs": [
    {
     "name": "stdout",
     "output_type": "stream",
     "text": [
      "          kelurahan  kejadian\n",
      "20            PLUIT         5\n",
      "61  CIPINANG MELAYU         4\n",
      "30      LEBAK BULUS         3\n",
      "40         RAWAJATI         3\n",
      "57   KAMPUNG MELAYU         3\n",
      "      kelurahan  kejadian\n",
      "22        KAPUK        10\n",
      "25   TEGAL ALUR         9\n",
      "58  BIDARA CINA         8\n",
      "60       CAWANG         8\n",
      "67  PULO GADUNG         7\n",
      "         kelurahan  kejadian\n",
      "57  KAMPUNG MELAYU        10\n",
      "60          CAWANG         9\n",
      "58     BIDARA CINA         8\n",
      "41   PEJATEN TIMUR         6\n",
      "34   PONDOK PINANG         5\n",
      "          kelurahan  kejadian\n",
      "34    PONDOK PINANG         3\n",
      "41    PEJATEN TIMUR         3\n",
      "45       KEBON BARU         3\n",
      "57   KAMPUNG MELAYU         3\n",
      "61  CIPINANG MELAYU         3\n",
      "         kelurahan  kejadian\n",
      "41   PEJATEN TIMUR         4\n",
      "40        RAWAJATI         3\n",
      "45      KEBON BARU         3\n",
      "57  KAMPUNG MELAYU         3\n",
      "34   PONDOK PINANG         2\n",
      "      kelurahan  kejadian\n",
      "20        PLUIT         7\n",
      "13      MARUNDA         3\n",
      "22        KAPUK         3\n",
      "76   PULAU PARI         3\n",
      "18  KAPUK MUARA         2\n",
      "                kelurahan  kejadian\n",
      "27              SRENGSENG         2\n",
      "74              PINANGSIA         2\n",
      "0              JOHAR BARU         0\n",
      "1   GUNUNG SAHARI SELATAN         0\n",
      "2                 SERDANG         0\n",
      "     kelurahan  kejadian\n",
      "11  PETAMBURAN         1\n",
      "13     MARUNDA         1\n",
      "22       KAPUK         1\n",
      "25  TEGAL ALUR         1\n",
      "42     BINTARO         1\n",
      "              kelurahan  kejadian\n",
      "22                KAPUK         3\n",
      "11           PETAMBURAN         2\n",
      "24  TANJUNG DUREN UTARA         2\n",
      "28             PALMERAH         2\n",
      "29          PONDOK LABU         2\n",
      "         kelurahan  kejadian\n",
      "60          CAWANG        46\n",
      "57  KAMPUNG MELAYU        43\n",
      "42         BINTARO        39\n",
      "34   PONDOK PINANG        35\n",
      "58     BIDARA CINA        21\n",
      "           kelurahan  kejadian\n",
      "57    KAMPUNG MELAYU        17\n",
      "38  MAMPANG PRAPATAN        15\n",
      "25        TEGAL ALUR         9\n",
      "20             PLUIT         7\n",
      "56      PONDOK BAMBU         7\n",
      "         kelurahan  kejadian\n",
      "57  KAMPUNG MELAYU        18\n",
      "58     BIDARA CINA         7\n",
      "79   PULAU HARAPAN         7\n",
      "60          CAWANG         5\n",
      "41   PEJATEN TIMUR         4\n"
     ]
    }
   ],
   "source": [
    "for setiap_bulan in kasus_banjir_per_bulan:\n",
    "    print(setiap_bulan.nlargest(5, \"kejadian\"))"
   ]
  }
 ],
 "metadata": {
  "kernelspec": {
   "display_name": "Python 3",
   "language": "python",
   "name": "python3"
  },
  "language_info": {
   "codemirror_mode": {
    "name": "ipython",
    "version": 3
   },
   "file_extension": ".py",
   "mimetype": "text/x-python",
   "name": "python",
   "nbconvert_exporter": "python",
   "pygments_lexer": "ipython3",
   "version": "3.10.8"
  },
  "orig_nbformat": 4
 },
 "nbformat": 4,
 "nbformat_minor": 2
}
