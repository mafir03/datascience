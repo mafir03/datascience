{
 "cells": [
  {
   "attachments": {},
   "cell_type": "markdown",
   "metadata": {},
   "source": [
    "masih ada duplikat di bulan 11/12"
   ]
  },
  {
   "cell_type": "code",
   "execution_count": 1,
   "metadata": {},
   "outputs": [],
   "source": [
    "import utils\n",
    "import pandas as pd\n",
    "import calendar\n",
    "import re\n",
    "import matplotlib.pyplot as plt\n",
    "import matplotlib.colors as mcolors"
   ]
  },
  {
   "cell_type": "code",
   "execution_count": 2,
   "metadata": {},
   "outputs": [],
   "source": [
    "pd.set_option('display.max_columns', None)"
   ]
  },
  {
   "cell_type": "code",
   "execution_count": 3,
   "metadata": {},
   "outputs": [],
   "source": [
    "# 1\n",
    "# open files\n",
    "arr = utils.fileList(\"rsc/\")\n",
    "arr.sort()\n",
    "lists = list()\n",
    "unused_columns = ['nilai_kerugian',\n",
    "'jumlah_tempat_pengungsian',\n",
    "'jumlah_pengungsi_tertinggi',\n",
    "'jumlah_luka_ringan',\n",
    "'jumlah_luka_berat',\n",
    "'jumlah_hilang',\n",
    "'jumlah_meninggal',\n",
    "'lama_genangan',\n",
    "'ketinggian_air',\n",
    "'jumlah_terdampak_jiwa',\n",
    "'jumlah_terdampak_kk',\n",
    "'jumlah_terdampak_rw',\n",
    "'jumlah_terdampak_rt',\n",
    "'rw']\n",
    "for item in arr:\n",
    "    csv = utils.readCsv(\"rsc/\" + item)\n",
    "    for unused in unused_columns:\n",
    "        csv.drop(unused, axis=1, inplace=True)\n",
    "    csv.drop_duplicates(subset=None, keep='first', inplace=False)\n",
    "    lists.append(csv)"
   ]
  },
  {
   "cell_type": "code",
   "execution_count": 4,
   "metadata": {},
   "outputs": [
    {
     "name": "stdout",
     "output_type": "stream",
     "text": [
      "Index(['kota_administrasi', 'kecamatan', 'kelurahan', 'tanggal_kejadian'], dtype='object')\n"
     ]
    }
   ],
   "source": [
    "# 2\n",
    "print(lists[0].columns)"
   ]
  },
  {
   "cell_type": "code",
   "execution_count": 5,
   "metadata": {},
   "outputs": [],
   "source": [
    "# 3\n",
    "nama_benahan = [\"PULOGADUNG\", \"CILIINCING\", \"MAMPANG\"]\n",
    "for bulan in lists:\n",
    "    for i in range(len(nama_benahan)):\n",
    "        if i == 0:\n",
    "            bulan.loc[bulan['kecamatan'] == nama_benahan[i], 'kecamatan'] = \"PULO GADUNG\"\n",
    "        elif i == 1:\n",
    "            bulan.loc[bulan['kecamatan'] == nama_benahan[i], 'kecamatan'] = \"CILINCING\"\n",
    "        elif i == 2:\n",
    "            bulan.loc[bulan['kecamatan'] == nama_benahan[i], 'kecamatan'] = \"MAMPANG PRAPATAN\""
   ]
  },
  {
   "cell_type": "code",
   "execution_count": 6,
   "metadata": {},
   "outputs": [],
   "source": [
    "# 4\n",
    "loc = [10,11]\n",
    "for l in loc:\n",
    "    rows = lists[l]['tanggal_kejadian']\n",
    "    # print(type(rows), l)\n",
    "    for row in rows:\n",
    "        # print(type(row))\n",
    "        # print(row)\n",
    "        if \"-\" in row:\n",
    "            # if isinstance(row, str):\n",
    "            #     dd = row[-2:]\n",
    "            # else:\n",
    "            #     dd = row[-2:].copy()\n",
    "\n",
    "            dd = str(row[-2:])\n",
    "            # print(dd, type(dd))\n",
    "            lists[l].loc[lists[l]['tanggal_kejadian'] == row, 'tanggal_kejadian'] = dd\n",
    "        "
   ]
  },
  {
   "cell_type": "code",
   "execution_count": 7,
   "metadata": {},
   "outputs": [],
   "source": [
    "# 5\n",
    "# normalize table in tanggal_kejadian column\n",
    "data_normaliasi_tanggal = list()\n",
    "# re.search(r'[0-9]{2}, txt')\n",
    "\n",
    "def ubah_format(kata : str) -> str:\n",
    "    if len(kata) == 1:\n",
    "        return \"0\"+kata\n",
    "    else:\n",
    "        return kata\n",
    "\n",
    "\n",
    "\n",
    "for bulan in lists:\n",
    "    bulan['tanggal_kejadian'] = bulan['tanggal_kejadian'].str.split(',')\n",
    "    bulan = bulan.explode('tanggal_kejadian').reset_index(drop=True)\n",
    "    bulan['tanggal_kejadian'] = bulan['tanggal_kejadian'].apply(lambda kalimat: kalimat.replace(\"tgl. \", \"\"))\n",
    "    bulan['tanggal_kejadian'] = bulan['tanggal_kejadian'].apply(lambda kalimat: kalimat.lstrip()[:2])\n",
    "    bulan['tanggal_kejadian'] = bulan['tanggal_kejadian'].apply(lambda kalimat: ubah_format(kalimat))\n",
    "\n",
    "    \n",
    "\n",
    "    # bulan['tanggal_kejadian'] = bulan['tanggal_kejadian'].apply(lambda kalimat: kalimat.ljust(2, '0'))\n",
    "    # bulan['tanggal_kejadian'] = bulan['tanggal_kejadian'].apply(lambda kalimat.string(): re.search(r'[0-9]{2}', kalimat))\n",
    "    # bulan['tanggal_kejadian'] = bulan['tanggal_kejadian'].str.extract('(\\d+)', expand=False)\n",
    "    data_normaliasi_tanggal.append(bulan)\n"
   ]
  },
  {
   "cell_type": "code",
   "execution_count": 8,
   "metadata": {},
   "outputs": [],
   "source": [
    "for bulan in data_normaliasi_tanggal:\n",
    "    bulan.drop_duplicates()"
   ]
  },
  {
   "cell_type": "code",
   "execution_count": 9,
   "metadata": {},
   "outputs": [],
   "source": [
    "# 6\n",
    "# Membersihkan Data\n",
    "\n",
    "for month in data_normaliasi_tanggal:\n",
    "    month.drop_duplicates(subset=[\n",
    "        'kota_administrasi', \n",
    "        'kecamatan', \n",
    "        'kelurahan', \n",
    "        'tanggal_kejadian'], \n",
    "        keep='first', \n",
    "        inplace=True\n",
    "        )\n"
   ]
  },
  {
   "cell_type": "code",
   "execution_count": null,
   "metadata": {},
   "outputs": [],
   "source": [
    "print(data_normaliasi_tanggal[10])"
   ]
  },
  {
   "cell_type": "code",
   "execution_count": 11,
   "metadata": {},
   "outputs": [],
   "source": [
    "# 7\n",
    "# making a dictionary of kelurahan, where kecamatan : [kelurahan]\n",
    "kecamatan = list()\n",
    "kelurahan = dict()\n",
    "for bulan in data_normaliasi_tanggal:\n",
    "    kecamatan_bulan_n = bulan['kecamatan'].drop_duplicates()\n",
    "    for i in kecamatan_bulan_n:\n",
    "        if i not in kecamatan:\n",
    "            kecamatan.append(i)\n",
    "    num = int()\n",
    "    for enum, kec in enumerate(kecamatan_bulan_n):\n",
    "        kelurahan[kec] = list(bulan.loc[bulan['kecamatan'] == kec, 'kelurahan'].drop_duplicates())"
   ]
  },
  {
   "cell_type": "code",
   "execution_count": 12,
   "metadata": {},
   "outputs": [],
   "source": [
    "# print(kecamatan)"
   ]
  },
  {
   "cell_type": "code",
   "execution_count": 13,
   "metadata": {},
   "outputs": [],
   "source": [
    "# 8\n",
    "total = int()\n",
    "for val in kelurahan.values():\n",
    "    total += len(val)\n",
    "# print(total)"
   ]
  },
  {
   "cell_type": "code",
   "execution_count": 14,
   "metadata": {},
   "outputs": [],
   "source": [
    "# for enum, kel in enumerate(kelurahan, 1):\n",
    "#     print(\"bulan \" + str(calendar.month_name[enum]))\n",
    "#     for kec in kecamatan:\n",
    "#         print(\"kecamatan : \" + kec)\n",
    "#         print(\"kelurahan : \" + \", \".join(kelurahan[kec]))\n",
    "#         print(\"_________\")\n",
    "        "
   ]
  },
  {
   "cell_type": "code",
   "execution_count": 15,
   "metadata": {},
   "outputs": [],
   "source": [
    "# 9\n",
    "# kasus banjir per-kelurahan\n",
    "kasus_banjir_per_bulan = list()\n",
    "banjir_per_kelurahan = dict()\n",
    "for bulan in data_normaliasi_tanggal: \n",
    "    for kec in kecamatan:\n",
    "        for kel in kelurahan[kec]:\n",
    "            kejadian = len(bulan[bulan['kelurahan'] == kel])\n",
    "            # print(kel + \" \" + str(kejadian))\n",
    "            banjir_per_kelurahan[kel] = kejadian\n",
    "    banjir_per_kelurahan = pd.Series(banjir_per_kelurahan).reset_index()\n",
    "    banjir_per_kelurahan.columns = ['kelurahan', 'kejadian']\n",
    "    kasus_banjir_per_bulan.append(banjir_per_kelurahan)\n",
    "    banjir_per_kelurahan = dict()"
   ]
  },
  {
   "cell_type": "code",
   "execution_count": 28,
   "metadata": {},
   "outputs": [
    {
     "name": "stdout",
     "output_type": "stream",
     "text": [
      "         kelurahan  kejadian\n",
      "58  KAMPUNG MELAYU         2\n",
      "26    KEDOYA UTARA         1\n",
      "27       SRENGSENG         1\n",
      "42   PEJATEN TIMUR         1\n",
      "59     BIDARA CINA         1\n"
     ]
    }
   ],
   "source": [
    "print(kasus_banjir_per_bulan[11].nlargest(5, \"kejadian\"))"
   ]
  },
  {
   "cell_type": "code",
   "execution_count": 18,
   "metadata": {},
   "outputs": [],
   "source": [
    "kasus_banjir_per_bulan_kecamatan = list()"
   ]
  },
  {
   "cell_type": "code",
   "execution_count": 19,
   "metadata": {},
   "outputs": [],
   "source": [
    "for setiap_bulan in kasus_banjir_per_bulan:\n",
    "    kasus_banjir_bulan_n_kecamatan = dict()\n",
    "    for kec in kecamatan:\n",
    "        total = int()\n",
    "        kels = kelurahan[kec]\n",
    "        for kel in kels:\n",
    "            total += setiap_bulan.loc[setiap_bulan['kelurahan'] == kel, 'kejadian'].values[0]\n",
    "        kasus_banjir_bulan_n_kecamatan[kec] = total\n",
    "    banjir = pd.Series(kasus_banjir_bulan_n_kecamatan).reset_index()\n",
    "    banjir.columns = ['kelurahan', 'kejadian']\n",
    "    kasus_banjir_per_bulan_kecamatan.append(banjir)\n"
   ]
  },
  {
   "cell_type": "code",
   "execution_count": 29,
   "metadata": {},
   "outputs": [],
   "source": [
    "def printBarPlot(df):\n",
    "\n",
    "    df_filtered = df[df['kejadian'] != 0]\n",
    "\n",
    "    df_sorted = df_filtered.sort_values('kejadian')\n",
    "\n",
    "    min_value = df_sorted['kejadian'].min()\n",
    "    max_value = df_sorted['kejadian'].max()\n",
    "\n",
    "    norm = mcolors.Normalize(vmin=min_value, vmax=max_value)\n",
    "    color_map = plt.cm.get_cmap('viridis')\n",
    "\n",
    "    plt.figure(figsize=(10, 6))\n",
    "    plt.bar(df_sorted['kelurahan'], df_sorted['kejadian'], color=color_map(norm(df_sorted['kejadian'])))\n",
    "\n",
    "    sm = plt.cm.ScalarMappable(cmap=color_map, norm=norm)\n",
    "    cbar = plt.colorbar(sm)\n",
    "    cbar.set_label('kejadian')\n",
    "\n",
    "    plt.xlabel('keluraham')\n",
    "    plt.ylabel('kejadian')\n",
    "    plt.title('Bar Plot with Color Gradient')\n",
    "    plt.xticks(rotation='vertical')\n",
    "    plt.show()"
   ]
  },
  {
   "cell_type": "code",
   "execution_count": 30,
   "metadata": {},
   "outputs": [
    {
     "name": "stderr",
     "output_type": "stream",
     "text": [
      "C:\\Users\\ACER\\AppData\\Local\\Temp\\ipykernel_8508\\3194220429.py:17: MatplotlibDeprecationWarning: Unable to determine Axes to steal space for Colorbar. Using gca(), but will raise in the future. Either provide the *cax* argument to use as the Axes for the Colorbar, provide the *ax* argument to steal space from it, or add *mappable* to an Axes.\n",
      "  cbar = plt.colorbar(sm)\n"
     ]
    },
    {
     "data": {
      "image/png": "[encoded data removed]",
      "text/plain": [
       "<Figure size 1000x600 with 2 Axes>"
      ]
     },
     "metadata": {},
     "output_type": "display_data"
    }
   ],
   "source": [
    "printBarPlot(kasus_banjir_per_bulan_kecamatan[11])"
   ]
  }
 ],
 "metadata": {
  "kernelspec": {
   "display_name": "Python 3",
   "language": "python",
   "name": "python3"
  },
  "language_info": {
   "codemirror_mode": {
    "name": "ipython",
    "version": 3
   },
   "file_extension": ".py",
   "mimetype": "text/x-python",
   "name": "python",
   "nbconvert_exporter": "python",
   "pygments_lexer": "ipython3",
   "version": "3.10.6"
  },
  "orig_nbformat": 4
 },
 "nbformat": 4,
 "nbformat_minor": 2
}
