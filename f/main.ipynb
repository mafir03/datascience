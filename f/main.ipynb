{
 "cells": [
  {
   "attachments": {},
   "cell_type": "markdown",
   "metadata": {},
   "source": [
    "masih ada duplikat di bulan 11/12"
   ]
  },
  {
   "cell_type": "code",
   "execution_count": 2,
   "metadata": {},
   "outputs": [],
   "source": [
    "import utils\n",
    "import pandas as pd\n",
    "import calendar\n",
    "import re\n",
    "import matplotlib.pyplot as plt\n",
    "import matplotlib.colors as mcolors"
   ]
  },
  {
   "cell_type": "code",
   "execution_count": 3,
   "metadata": {},
   "outputs": [],
   "source": [
    "pd.set_option('display.max_columns', None)"
   ]
  },
  {
   "cell_type": "code",
   "execution_count": 4,
   "metadata": {},
   "outputs": [],
   "source": [
    "# 1\n",
    "# open files\n",
    "arr = utils.fileList(\"rsc/\")\n",
    "arr.sort()\n",
    "lists = list()\n",
    "unused_columns = ['nilai_kerugian',\n",
    "'jumlah_tempat_pengungsian',\n",
    "'jumlah_pengungsi_tertinggi',\n",
    "'jumlah_luka_ringan',\n",
    "'jumlah_luka_berat',\n",
    "'jumlah_hilang',\n",
    "'jumlah_meninggal',\n",
    "'lama_genangan',\n",
    "'ketinggian_air',\n",
    "'jumlah_terdampak_jiwa',\n",
    "'jumlah_terdampak_kk',\n",
    "'jumlah_terdampak_rw',\n",
    "'jumlah_terdampak_rt',\n",
    "'rw']\n",
    "for item in arr:\n",
    "    csv = utils.readCsv(\"rsc/\" + item)\n",
    "    for unused in unused_columns:\n",
    "        csv.drop(unused, axis=1, inplace=True)\n",
    "    csv.drop_duplicates(subset=None, keep='first', inplace=False)\n",
    "    lists.append(csv)"
   ]
  },
  {
   "cell_type": "code",
   "execution_count": 5,
   "metadata": {},
   "outputs": [
    {
     "name": "stdout",
     "output_type": "stream",
     "text": [
      "Index(['kota_administrasi', 'kecamatan', 'kelurahan', 'tanggal_kejadian'], dtype='object')\n"
     ]
    }
   ],
   "source": [
    "# 2\n",
    "print(lists[0].columns)"
   ]
  },
  {
   "cell_type": "code",
   "execution_count": 6,
   "metadata": {},
   "outputs": [],
   "source": [
    "# 3\n",
    "nama_benahan = [\"PULOGADUNG\", \"CILIINCING\", \"MAMPANG\"]\n",
    "for bulan in lists:\n",
    "    for i in range(len(nama_benahan)):\n",
    "        if i == 0:\n",
    "            bulan.loc[bulan['kecamatan'] == nama_benahan[i], 'kecamatan'] = \"PULO GADUNG\"\n",
    "        elif i == 1:\n",
    "            bulan.loc[bulan['kecamatan'] == nama_benahan[i], 'kecamatan'] = \"CILINCING\"\n",
    "        elif i == 2:\n",
    "            bulan.loc[bulan['kecamatan'] == nama_benahan[i], 'kecamatan'] = \"MAMPANG PRAPATAN\""
   ]
  },
  {
   "cell_type": "code",
   "execution_count": 7,
   "metadata": {},
   "outputs": [],
   "source": [
    "# 4\n",
    "loc = [10,11]\n",
    "for l in loc:\n",
    "    rows = lists[l]['tanggal_kejadian']\n",
    "    # print(type(rows), l)\n",
    "    for row in rows:\n",
    "        # print(type(row))\n",
    "        # print(row)\n",
    "        if \"-\" in row:\n",
    "            # if isinstance(row, str):\n",
    "            #     dd = row[-2:]\n",
    "            # else:\n",
    "            #     dd = row[-2:].copy()\n",
    "\n",
    "            dd = str(row[-2:])\n",
    "            # print(dd, type(dd))\n",
    "            lists[l].loc[lists[l]['tanggal_kejadian'] == row, 'tanggal_kejadian'] = dd\n",
    "        "
   ]
  },
  {
   "cell_type": "code",
   "execution_count": 8,
   "metadata": {},
   "outputs": [],
   "source": [
    "# 5\n",
    "# normalize table in tanggal_kejadian column\n",
    "data_normaliasi_tanggal = list()\n",
    "# re.search(r'[0-9]{2}, txt')\n",
    "\n",
    "def ubah_format(kata : str) -> str:\n",
    "    if len(kata) == 1:\n",
    "        return \"0\"+kata\n",
    "    else:\n",
    "        return kata\n",
    "\n",
    "\n",
    "\n",
    "for bulan in lists:\n",
    "    bulan['tanggal_kejadian'] = bulan['tanggal_kejadian'].str.split(',')\n",
    "    bulan = bulan.explode('tanggal_kejadian').reset_index(drop=True)\n",
    "    bulan['tanggal_kejadian'] = bulan['tanggal_kejadian'].apply(lambda kalimat: kalimat.replace(\"tgl. \", \"\"))\n",
    "    bulan['tanggal_kejadian'] = bulan['tanggal_kejadian'].apply(lambda kalimat: kalimat.lstrip()[:2])\n",
    "    bulan['tanggal_kejadian'] = bulan['tanggal_kejadian'].apply(lambda kalimat: ubah_format(kalimat))\n",
    "\n",
    "    \n",
    "\n",
    "    # bulan['tanggal_kejadian'] = bulan['tanggal_kejadian'].apply(lambda kalimat: kalimat.ljust(2, '0'))\n",
    "    # bulan['tanggal_kejadian'] = bulan['tanggal_kejadian'].apply(lambda kalimat.string(): re.search(r'[0-9]{2}', kalimat))\n",
    "    # bulan['tanggal_kejadian'] = bulan['tanggal_kejadian'].str.extract('(\\d+)', expand=False)\n",
    "    data_normaliasi_tanggal.append(bulan)\n"
   ]
  },
  {
   "cell_type": "code",
   "execution_count": 9,
   "metadata": {},
   "outputs": [],
   "source": [
    "for bulan in data_normaliasi_tanggal:\n",
    "    bulan.drop_duplicates()"
   ]
  },
  {
   "cell_type": "code",
   "execution_count": 10,
   "metadata": {},
   "outputs": [],
   "source": [
    "# 6\n",
    "# Membersihkan Data\n",
    "\n",
    "for month in data_normaliasi_tanggal:\n",
    "    month.drop_duplicates(subset=[\n",
    "        'kota_administrasi', \n",
    "        'kecamatan', \n",
    "        'kelurahan', \n",
    "        'tanggal_kejadian'], \n",
    "        keep='first', \n",
    "        inplace=True\n",
    "        )\n"
   ]
  },
  {
   "cell_type": "code",
   "execution_count": 11,
   "metadata": {},
   "outputs": [
    {
     "name": "stdout",
     "output_type": "stream",
     "text": [
      "    kota_administrasi         kecamatan       kelurahan tanggal_kejadian\n",
      "0       Jakarta Utara       PENJARINGAN     KAPUK MUARA               16\n",
      "1       Jakarta Utara       PENJARINGAN     KAPUK MUARA               18\n",
      "4       Jakarta Utara       PENJARINGAN     KAPUK MUARA               17\n",
      "5       Jakarta Utara       PENJARINGAN     PENJARINGAN               17\n",
      "7       Jakarta Utara       PENJARINGAN     PENJARINGAN               24\n",
      "8       Jakarta Utara       PENJARINGAN           PLUIT               17\n",
      "15      Jakarta Utara         CILINCING         ROROTAN               01\n",
      "16      Jakarta Utara         CILINCING         MARUNDA               17\n",
      "17      Jakarta Utara         CILINCING         MARUNDA               18\n",
      "21      Jakarta Utara        PADEMANGAN           ANCOL               17\n",
      "24      Jakarta Barat         KALIDERES      TEGAL ALUR               16\n",
      "25      Jakarta Barat         KALIDERES      TEGAL ALUR               17\n",
      "26      Jakarta Barat         KALIDERES      TEGAL ALUR               18\n",
      "33      Jakarta Barat        CENGKARENG           KAPUK               18\n",
      "39    Jakarta Selatan      PASAR MINGGU     JATI PADANG               01\n",
      "40    Jakarta Selatan      PASAR MINGGU     JATI PADANG               08\n",
      "45    Jakarta Selatan      PASAR MINGGU  CILANDAK TIMUR               08\n",
      "47    Jakarta Selatan      PASAR MINGGU       KEBAGUSAN               08\n",
      "49    Jakarta Selatan      PASAR MINGGU       KEBAGUSAN               24\n",
      "50    Jakarta Selatan      PASAR MINGGU   PEJATEN BARAT               08\n",
      "59    Jakarta Selatan          PANCORAN        KALIBATA               08\n",
      "62    Jakarta Selatan          PANCORAN        KALIBATA               25\n",
      "63    Jakarta Selatan          PANCORAN        RAWAJATI               25\n",
      "64    Jakarta Selatan         JAGAKARSA       JAGAKARSA               08\n",
      "65    Jakarta Selatan         JAGAKARSA         CIPEDAK               08\n",
      "67    Jakarta Selatan    KEBAYORAN BARU       PETOGOGAN               08\n",
      "68    Jakarta Selatan  MAMPANG PRAPATAN          BANGKA               08\n",
      "72    Jakarta Selatan  MAMPANG PRAPATAN    PELA MAMPANG               08\n",
      "83    Jakarta Selatan             TEBET      KEBON BARU               25\n",
      "84      Jakarta Timur       DUREN SAWIT     DUREN SAWIT               01\n",
      "85      Jakarta Timur       DUREN SAWIT    PONDOK BAMBU               01\n",
      "92      Jakarta Timur           CIRACAS         SUSUKAN               01\n",
      "93      Jakarta Timur        JATINEGARA  KAMPUNG MELAYU               01\n",
      "94      Jakarta Timur        JATINEGARA  KAMPUNG MELAYU               12\n",
      "110     Jakarta Timur       KRAMAT JATI     BALEKAMBANG               08\n",
      "111     Jakarta Timur       KRAMAT JATI          CAWANG               12\n",
      "114     Jakarta Timur        PASAR REBO          GEDONG               25\n"
     ]
    }
   ],
   "source": [
    "print(data_normaliasi_tanggal[10])"
   ]
  },
  {
   "cell_type": "code",
   "execution_count": 12,
   "metadata": {},
   "outputs": [],
   "source": [
    "# 7\n",
    "# making a dictionary of kelurahan, where kecamatan : [kelurahan]\n",
    "kecamatan = list()\n",
    "kelurahan = dict()\n",
    "for bulan in data_normaliasi_tanggal:\n",
    "    kecamatan_bulan_n = bulan['kecamatan'].drop_duplicates()\n",
    "    for i in kecamatan_bulan_n:\n",
    "        if i not in kecamatan:\n",
    "            kecamatan.append(i)\n",
    "    num = int()\n",
    "    for enum, kec in enumerate(kecamatan_bulan_n):\n",
    "        kelurahan[kec] = list(bulan.loc[bulan['kecamatan'] == kec, 'kelurahan'].drop_duplicates())"
   ]
  },
  {
   "cell_type": "code",
   "execution_count": 13,
   "metadata": {},
   "outputs": [],
   "source": [
    "# print(kecamatan)"
   ]
  },
  {
   "cell_type": "code",
   "execution_count": 14,
   "metadata": {},
   "outputs": [],
   "source": [
    "# 8\n",
    "total = int()\n",
    "for val in kelurahan.values():\n",
    "    total += len(val)\n",
    "# print(total)"
   ]
  },
  {
   "cell_type": "code",
   "execution_count": 15,
   "metadata": {},
   "outputs": [],
   "source": [
    "# for enum, kel in enumerate(kelurahan, 1):\n",
    "#     print(\"bulan \" + str(calendar.month_name[enum]))\n",
    "#     for kec in kecamatan:\n",
    "#         print(\"kecamatan : \" + kec)\n",
    "#         print(\"kelurahan : \" + \", \".join(kelurahan[kec]))\n",
    "#         print(\"_________\")\n",
    "        "
   ]
  },
  {
   "cell_type": "code",
   "execution_count": 16,
   "metadata": {},
   "outputs": [],
   "source": [
    "# 9\n",
    "# kasus banjir per-kelurahan\n",
    "kasus_banjir_per_bulan = list()\n",
    "banjir_per_kelurahan = dict()\n",
    "for bulan in data_normaliasi_tanggal: \n",
    "    for kec in kecamatan:\n",
    "        for kel in kelurahan[kec]:\n",
    "            kejadian = len(bulan[bulan['kelurahan'] == kel])\n",
    "            # print(kel + \" \" + str(kejadian))\n",
    "            banjir_per_kelurahan[kel] = kejadian\n",
    "    banjir_per_kelurahan = pd.Series(banjir_per_kelurahan).reset_index()\n",
    "    banjir_per_kelurahan.columns = ['kelurahan', 'kejadian']\n",
    "    kasus_banjir_per_bulan.append(banjir_per_kelurahan)\n",
    "    banjir_per_kelurahan = dict()"
   ]
  },
  {
   "cell_type": "code",
   "execution_count": 17,
   "metadata": {},
   "outputs": [
    {
     "name": "stdout",
     "output_type": "stream",
     "text": [
      "         kelurahan  kejadian\n",
      "58  KAMPUNG MELAYU         2\n",
      "26    KEDOYA UTARA         1\n",
      "27       SRENGSENG         1\n",
      "42   PEJATEN TIMUR         1\n",
      "59     BIDARA CINA         1\n"
     ]
    }
   ],
   "source": [
    "print(kasus_banjir_per_bulan[11].nlargest(5, \"kejadian\"))"
   ]
  },
  {
   "cell_type": "code",
   "execution_count": 18,
   "metadata": {},
   "outputs": [],
   "source": [
    "kasus_banjir_per_bulan_kecamatan = list()"
   ]
  },
  {
   "cell_type": "code",
   "execution_count": 19,
   "metadata": {},
   "outputs": [],
   "source": [
    "for setiap_bulan in kasus_banjir_per_bulan:\n",
    "    kasus_banjir_bulan_n_kecamatan = dict()\n",
    "    for kec in kecamatan:\n",
    "        total = int()\n",
    "        kels = kelurahan[kec]\n",
    "        for kel in kels:\n",
    "            total += setiap_bulan.loc[setiap_bulan['kelurahan'] == kel, 'kejadian'].values[0]\n",
    "        kasus_banjir_bulan_n_kecamatan[kec] = total\n",
    "    banjir = pd.Series(kasus_banjir_bulan_n_kecamatan).reset_index()\n",
    "    banjir.columns = ['kecamatan', 'kejadian']\n",
    "    kasus_banjir_per_bulan_kecamatan.append(banjir)\n"
   ]
  },
  {
   "cell_type": "code",
   "execution_count": 20,
   "metadata": {},
   "outputs": [],
   "source": [
    "def printBarPlot(df):\n",
    "\n",
    "    df_filtered = df[df['kejadian'] != 0]\n",
    "\n",
    "    df_sorted = df_filtered.sort_values('kejadian')\n",
    "\n",
    "    min_value = df_sorted['kejadian'].min()\n",
    "    max_value = df_sorted['kejadian'].max()\n",
    "\n",
    "    norm = mcolors.Normalize(vmin=min_value, vmax=max_value)\n",
    "    color_map = plt.cm.get_cmap('rainbow_r')\n",
    "\n",
    "    plt.figure(figsize=(10, 6))\n",
    "    plt.bar(df_sorted['kecamatan'], df_sorted['kejadian'], color=color_map(norm(df_sorted['kejadian'])))\n",
    "\n",
    "    sm = plt.cm.ScalarMappable(cmap=color_map, norm=norm)\n",
    "    cbar = plt.colorbar(sm)\n",
    "    cbar.set_label('kejadian')\n",
    "\n",
    "    plt.xlabel('kecamatan')\n",
    "    plt.ylabel('kejadian')\n",
    "    plt.title('Bar Plot with Color Gradient')\n",
    "    plt.xticks(rotation='vertical')\n",
    "    plt.show()"
   ]
  },
  {
   "cell_type": "code",
   "execution_count": 21,
   "metadata": {},
   "outputs": [
    {
     "name": "stderr",
     "output_type": "stream",
     "text": [
      "C:\\Users\\ACER\\AppData\\Local\\Temp\\ipykernel_31216\\1310913394.py:17: MatplotlibDeprecationWarning: Unable to determine Axes to steal space for Colorbar. Using gca(), but will raise in the future. Either provide the *cax* argument to use as the Axes for the Colorbar, provide the *ax* argument to steal space from it, or add *mappable* to an Axes.\n",
      "  cbar = plt.colorbar(sm)\n"
     ]
    },
    {
     "data": {
      "image/png": "[encoded data removed]",
      "text/plain": [
       "<Figure size 1000x600 with 2 Axes>"
      ]
     },
     "metadata": {},
     "output_type": "display_data"
    }
   ],
   "source": [
    "# 0 = januari\n",
    "# 11 = desember\n",
    "printBarPlot(kasus_banjir_per_bulan_kecamatan[11])"
   ]
  },
  {
   "cell_type": "code",
   "execution_count": 22,
   "metadata": {},
   "outputs": [],
   "source": [
    "kasus_banjir_pertahun_kecamatan = dict()\n",
    "for kasus in kasus_banjir_per_bulan_kecamatan:\n",
    "    kecam = kasus['kecamatan']\n",
    "    for kec in kecam:\n",
    "        try:\n",
    "            kasus_banjir_pertahun_kecamatan[kec]\n",
    "        except KeyError:\n",
    "            kasus_banjir_pertahun_kecamatan[kec] = kasus.loc[kasus['kecamatan'] == kec, 'kejadian'].values[0]\n",
    "        finally:\n",
    "            kasus_banjir_pertahun_kecamatan[kec] += kasus.loc[kasus['kecamatan'] == kec, 'kejadian'].values[0]"
   ]
  },
  {
   "cell_type": "code",
   "execution_count": 23,
   "metadata": {},
   "outputs": [
    {
     "name": "stdout",
     "output_type": "stream",
     "text": [
      "{'JOHAR BARU': 5, 'KEMAYORAN': 13, 'SAWAH BESAR': 9, 'TANAH ABANG': 8, 'CILINCING': 22, 'KELAPA GADING': 13, 'KOJA': 3, 'PENJARINGAN': 44, 'PADEMANGAN': 7, 'CENGKARENG': 22, 'GROGOL PETAMBURAN': 9, 'KALIDERES': 17, 'KEBON JERUK': 9, 'KEMBANGAN': 9, 'PALMERAH': 8, 'CILANDAK': 20, 'JAGAKARSA': 12, 'KEBAYORAN BARU': 13, 'KEBAYORAN LAMA': 38, 'MAMPANG PRAPATAN': 23, 'PANCORAN': 26, 'PASAR MINGGU': 25, 'PESANGGRAHAN': 22, 'SETIABUDI': 2, 'TEBET': 21, 'CAKUNG': 22, 'CIPAYUNG': 29, 'CIRACAS': 7, 'DUREN SAWIT': 11, 'JATINEGARA': 67, 'KRAMAT JATI': 48, 'MAKASAR': 46, 'MATRAMAN': 5, 'PASAR REBO': 4, 'PULO GADUNG': 1, 'SENEN': 1, 'MENTENG': 4, 'CEMPAKA PUTIH': 3, 'GAMBIR': 1, 'TANJUNG PRIOK': 2, 'TAMAN SARI': 2, 'TAMBORA': 1, 'KEPULAUAN SERIBU SELATAN': 6, 'KEPULAUAN SERIBU UTARA': 1}\n"
     ]
    }
   ],
   "source": [
    "print(kasus_banjir_pertahun_kecamatan)"
   ]
  }
 ],
 "metadata": {
  "kernelspec": {
   "display_name": "Python 3",
   "language": "python",
   "name": "python3"
  },
  "language_info": {
   "codemirror_mode": {
    "name": "ipython",
    "version": 3
   },
   "file_extension": ".py",
   "mimetype": "text/x-python",
   "name": "python",
   "nbconvert_exporter": "python",
   "pygments_lexer": "ipython3",
   "version": "3.10.6"
  },
  "orig_nbformat": 4
 },
 "nbformat": 4,
 "nbformat_minor": 2
}
