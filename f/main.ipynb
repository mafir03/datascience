{
 "cells": [
  {
   "attachments": {},
   "cell_type": "markdown",
   "metadata": {},
   "source": [
    "masih ada duplikat di bulan 11/12"
   ]
  },
  {
   "cell_type": "code",
   "execution_count": 1,
   "metadata": {},
   "outputs": [],
   "source": [
    "import utils\n",
    "import pandas as pd\n",
    "import calendar\n",
    "import re"
   ]
  },
  {
   "cell_type": "code",
   "execution_count": 2,
   "metadata": {},
   "outputs": [],
   "source": [
    "pd.set_option('display.max_columns', None)"
   ]
  },
  {
   "cell_type": "code",
   "execution_count": 3,
   "metadata": {},
   "outputs": [],
   "source": [
    "# 1\n",
    "# open files\n",
    "arr = utils.fileList(\"rsc/\")\n",
    "arr.sort()\n",
    "lists = list()\n",
    "unused_columns = ['nilai_kerugian',\n",
    "'jumlah_tempat_pengungsian',\n",
    "'jumlah_pengungsi_tertinggi',\n",
    "'jumlah_luka_ringan',\n",
    "'jumlah_luka_berat',\n",
    "'jumlah_hilang',\n",
    "'jumlah_meninggal',\n",
    "'lama_genangan',\n",
    "'ketinggian_air',\n",
    "'jumlah_terdampak_jiwa',\n",
    "'jumlah_terdampak_kk',\n",
    "'jumlah_terdampak_rw',\n",
    "'jumlah_terdampak_rt',\n",
    "'rw']\n",
    "for item in arr:\n",
    "    csv = utils.readCsv(\"rsc/\" + item)\n",
    "    for unused in unused_columns:\n",
    "        csv.drop(unused, axis=1, inplace=True)\n",
    "    csv.drop_duplicates(subset=None, keep='first', inplace=False)\n",
    "    lists.append(csv)\n"
   ]
  },
  {
   "cell_type": "code",
   "execution_count": 4,
   "metadata": {},
   "outputs": [
    {
     "name": "stdout",
     "output_type": "stream",
     "text": [
      "Index(['kota_administrasi', 'kecamatan', 'kelurahan', 'tanggal_kejadian'], dtype='object')\n"
     ]
    }
   ],
   "source": [
    "# 2\n",
    "print(lists[0].columns)"
   ]
  },
  {
   "cell_type": "code",
   "execution_count": 5,
   "metadata": {},
   "outputs": [],
   "source": [
    "# 3\n",
    "nama_benahan = [\"PULOGADUNG\", \"CILIINCING\", \"MAMPANG\"]\n",
    "for bulan in lists:\n",
    "    for i in range(len(nama_benahan)):\n",
    "        if i == 0:\n",
    "            bulan.loc[bulan['kecamatan'] == nama_benahan[i], 'kecamatan'] = \"PULO GADUNG\"\n",
    "        elif i == 1:\n",
    "            bulan.loc[bulan['kecamatan'] == nama_benahan[i], 'kecamatan'] = \"CILINCING\"\n",
    "        elif i == 2:\n",
    "            bulan.loc[bulan['kecamatan'] == nama_benahan[i], 'kecamatan'] = \"MAMPANG PRAPATAN\""
   ]
  },
  {
   "cell_type": "code",
   "execution_count": 6,
   "metadata": {},
   "outputs": [],
   "source": [
    "# 4\n",
    "loc = [10,11]\n",
    "for l in loc:\n",
    "    rows = lists[l]['tanggal_kejadian']\n",
    "    # print(type(rows), l)\n",
    "    for row in rows:\n",
    "        # print(type(row))\n",
    "        # print(row)\n",
    "        if \"-\" in row:\n",
    "            # if isinstance(row, str):\n",
    "            #     dd = row[-2:]\n",
    "            # else:\n",
    "            #     dd = row[-2:].copy()\n",
    "\n",
    "            dd = str(row[-2:])\n",
    "            # print(dd, type(dd))\n",
    "            lists[l].loc[lists[l]['tanggal_kejadian'] == row, 'tanggal_kejadian'] = dd\n",
    "        "
   ]
  },
  {
   "cell_type": "code",
   "execution_count": 7,
   "metadata": {},
   "outputs": [],
   "source": [
    "# 5\n",
    "# normalize table in tanggal_kejadian column\n",
    "data_normaliasi_tanggal = list()\n",
    "# re.search(r'[0-9]{2}, txt')\n",
    "\n",
    "def ubah_format(kata : str) -> str:\n",
    "    if len(kata) == 1:\n",
    "        return \"0\"+kata\n",
    "    else:\n",
    "        return kata\n",
    "\n",
    "\n",
    "\n",
    "for bulan in lists:\n",
    "    bulan['tanggal_kejadian'] = bulan['tanggal_kejadian'].str.split(',')\n",
    "    bulan = bulan.explode('tanggal_kejadian').reset_index(drop=True)\n",
    "    bulan['tanggal_kejadian'] = bulan['tanggal_kejadian'].apply(lambda kalimat: kalimat.replace(\"tgl. \", \"\"))\n",
    "    bulan['tanggal_kejadian'] = bulan['tanggal_kejadian'].apply(lambda kalimat: kalimat.lstrip()[:2])\n",
    "    bulan['tanggal_kejadian'] = bulan['tanggal_kejadian'].apply(lambda kalimat: ubah_format(kalimat))\n",
    "\n",
    "    \n",
    "\n",
    "    # bulan['tanggal_kejadian'] = bulan['tanggal_kejadian'].apply(lambda kalimat: kalimat.ljust(2, '0'))\n",
    "    # bulan['tanggal_kejadian'] = bulan['tanggal_kejadian'].apply(lambda kalimat.string(): re.search(r'[0-9]{2}', kalimat))\n",
    "    # bulan['tanggal_kejadian'] = bulan['tanggal_kejadian'].str.extract('(\\d+)', expand=False)\n",
    "    data_normaliasi_tanggal.append(bulan)\n"
   ]
  },
  {
   "cell_type": "code",
   "execution_count": 8,
   "metadata": {},
   "outputs": [],
   "source": [
    "for bulan in data_normaliasi_tanggal:\n",
    "    bulan.drop_duplicates()"
   ]
  },
  {
   "cell_type": "code",
   "execution_count": 9,
   "metadata": {},
   "outputs": [],
   "source": [
    "# 6\n",
    "# Membersihkan Data\n",
    "\n",
    "for month in data_normaliasi_tanggal:\n",
    "    length = len(month)\n",
    "    last_kecamatan = \"\"\n",
    "    last_kelurahan = \"\"\n",
    "\n",
    "    i_container = []\n",
    "    \n",
    "    tanggal_container = []\n",
    "\n",
    "\n",
    "    for i in range(length):\n",
    "        if  i == 0:\n",
    "            last_kecamatan = month.loc[i][\"kecamatan\"]\n",
    "            last_kelurahan = month.loc[i][\"kelurahan\"]\n",
    "\n",
    "            tanggal_container.append(month.loc[i][\"tanggal_kejadian\"])\n",
    "            continue\n",
    "\n",
    "\n",
    "        # Mendapatkan data terkini\n",
    "        now_kecamatan = month.loc[i][\"kecamatan\"]\n",
    "        now_kelurahan = month.loc[i][\"kelurahan\"]\n",
    "        now_tanggal_kejadian = month.loc[i][\"tanggal_kejadian\"]\n",
    "\n",
    "        # cek duplikat\n",
    "        if now_kecamatan == last_kecamatan \\\n",
    "            and now_kelurahan == last_kelurahan \\\n",
    "            and now_tanggal_kejadian in tanggal_container:\n",
    "                #Hapus baris ke i (variabel) di bulan 'month' (variabel)\n",
    "                i_container.append(i)\n",
    "\n",
    "        elif now_kecamatan == last_kecamatan \\\n",
    "            and now_kelurahan == last_kelurahan:\n",
    "                tanggal_container.append(now_tanggal_kejadian)\n",
    "    \n",
    "        else:\n",
    "            last_kecamatan = now_kecamatan\n",
    "            last_kelurahan = now_kelurahan\n",
    "\n",
    "            tanggal_container = []\n",
    "\n",
    "    for _ in range(len(i_container)):\n",
    "        i = i_container.pop()\n",
    "        month.drop(i, inplace=True)\n"
   ]
  },
  {
   "cell_type": "code",
   "execution_count": 10,
   "metadata": {},
   "outputs": [
    {
     "name": "stdout",
     "output_type": "stream",
     "text": [
      "0      16\n",
      "1      18\n",
      "4      17\n",
      "5      17\n",
      "6      17\n",
      "7      24\n",
      "8      17\n",
      "9      17\n",
      "15     01\n",
      "16     17\n",
      "17     18\n",
      "18     17\n",
      "21     17\n",
      "22     17\n",
      "24     16\n",
      "25     17\n",
      "26     18\n",
      "27     16\n",
      "33     18\n",
      "34     18\n",
      "39     01\n",
      "40     08\n",
      "45     08\n",
      "46     08\n",
      "47     08\n",
      "48     08\n",
      "49     24\n",
      "50     08\n",
      "51     08\n",
      "59     08\n",
      "60     08\n",
      "62     25\n",
      "63     25\n",
      "64     08\n",
      "65     08\n",
      "66     08\n",
      "67     08\n",
      "68     08\n",
      "69     08\n",
      "72     08\n",
      "73     08\n",
      "83     25\n",
      "84     01\n",
      "85     01\n",
      "86     01\n",
      "92     01\n",
      "93     01\n",
      "94     12\n",
      "96     01\n",
      "110    08\n",
      "111    12\n",
      "112    12\n",
      "114    25\n",
      "Name: tanggal_kejadian, dtype: object\n"
     ]
    }
   ],
   "source": [
    "print(data_normaliasi_tanggal[10]['tanggal_kejadian'])"
   ]
  },
  {
   "cell_type": "code",
   "execution_count": 11,
   "metadata": {},
   "outputs": [],
   "source": [
    "# 7\n",
    "# making a dictionary of kelurahan, where kecamatan : [kelurahan]\n",
    "kecamatan = list()\n",
    "kelurahan = dict()\n",
    "for bulan in data_normaliasi_tanggal:\n",
    "    kecamatan_bulan_n = bulan['kecamatan'].drop_duplicates()\n",
    "    for i in kecamatan_bulan_n:\n",
    "        if i not in kecamatan:\n",
    "            kecamatan.append(i)\n",
    "    num = int()\n",
    "    for enum, kec in enumerate(kecamatan_bulan_n):\n",
    "        kelurahan[kec] = list(bulan.loc[bulan['kecamatan'] == kec, 'kelurahan'].drop_duplicates())"
   ]
  },
  {
   "cell_type": "code",
   "execution_count": 12,
   "metadata": {},
   "outputs": [
    {
     "name": "stdout",
     "output_type": "stream",
     "text": [
      "['JOHAR BARU', 'KEMAYORAN', 'SAWAH BESAR', 'TANAH ABANG', 'CILINCING', 'KELAPA GADING', 'KOJA', 'PENJARINGAN', 'PADEMANGAN', 'CENGKARENG', 'GROGOL PETAMBURAN', 'KALIDERES', 'KEBON JERUK', 'KEMBANGAN', 'PALMERAH', 'CILANDAK', 'JAGAKARSA', 'KEBAYORAN BARU', 'KEBAYORAN LAMA', 'MAMPANG PRAPATAN', 'PANCORAN', 'PASAR MINGGU', 'PESANGGRAHAN', 'SETIABUDI', 'TEBET', 'CAKUNG', 'CIPAYUNG', 'CIRACAS', 'DUREN SAWIT', 'JATINEGARA', 'KRAMAT JATI', 'MAKASAR', 'MATRAMAN', 'PASAR REBO', 'PULO GADUNG', 'SENEN', 'MENTENG', 'CEMPAKA PUTIH', 'GAMBIR', 'TANJUNG PRIOK', 'TAMAN SARI', 'TAMBORA', 'KEPULAUAN SERIBU SELATAN', 'KEPULAUAN SERIBU UTARA']\n"
     ]
    }
   ],
   "source": [
    "print(kecamatan)"
   ]
  },
  {
   "cell_type": "code",
   "execution_count": 13,
   "metadata": {},
   "outputs": [
    {
     "name": "stdout",
     "output_type": "stream",
     "text": [
      "81\n"
     ]
    }
   ],
   "source": [
    "# 8\n",
    "total = int()\n",
    "for val in kelurahan.values():\n",
    "    total += len(val)\n",
    "print(total)"
   ]
  },
  {
   "cell_type": "code",
   "execution_count": 14,
   "metadata": {},
   "outputs": [],
   "source": [
    "# for enum, kel in enumerate(kelurahan, 1):\n",
    "#     print(\"bulan \" + str(calendar.month_name[enum]))\n",
    "#     for kec in kecamatan:\n",
    "#         print(\"kecamatan : \" + kec)\n",
    "#         print(\"kelurahan : \" + \", \".join(kelurahan[kec]))\n",
    "#         print(\"_________\")\n",
    "        "
   ]
  },
  {
   "cell_type": "code",
   "execution_count": 15,
   "metadata": {},
   "outputs": [],
   "source": [
    "# 9\n",
    "# kasus banjir per-kelurahan\n",
    "kasus_banjir_per_bulan = list()\n",
    "banjir_per_kelurahan = dict()\n",
    "\n",
    "for bulan in data_normaliasi_tanggal: \n",
    "    for kec in kecamatan:\n",
    "        for kel in kelurahan[kec]:\n",
    "            kejadian = len(bulan[bulan['kelurahan'] == kel])\n",
    "            # print(kel + \" \" + str(kejadian))\n",
    "            banjir_per_kelurahan[kel] = kejadian\n",
    "    banjir_per_kelurahan = pd.Series(banjir_per_kelurahan).reset_index()\n",
    "    banjir_per_kelurahan.columns = ['kelurahan', 'kejadian']\n",
    "    kasus_banjir_per_bulan.append(banjir_per_kelurahan)\n",
    "    banjir_per_kelurahan = dict()"
   ]
  },
  {
   "cell_type": "code",
   "execution_count": 16,
   "metadata": {},
   "outputs": [
    {
     "name": "stdout",
     "output_type": "stream",
     "text": [
      "    kota_administrasi         kecamatan       kelurahan tanggal_kejadian\n",
      "0       Jakarta Utara       PENJARINGAN     KAPUK MUARA               16\n",
      "1       Jakarta Utara       PENJARINGAN     KAPUK MUARA               18\n",
      "4       Jakarta Utara       PENJARINGAN     KAPUK MUARA               17\n",
      "5       Jakarta Utara       PENJARINGAN     PENJARINGAN               17\n",
      "6       Jakarta Utara       PENJARINGAN     PENJARINGAN               17\n",
      "7       Jakarta Utara       PENJARINGAN     PENJARINGAN               24\n",
      "8       Jakarta Utara       PENJARINGAN           PLUIT               17\n",
      "9       Jakarta Utara       PENJARINGAN           PLUIT               17\n",
      "15      Jakarta Utara         CILINCING         ROROTAN               01\n",
      "16      Jakarta Utara         CILINCING         MARUNDA               17\n",
      "17      Jakarta Utara         CILINCING         MARUNDA               18\n",
      "18      Jakarta Utara         CILINCING         MARUNDA               17\n",
      "21      Jakarta Utara        PADEMANGAN           ANCOL               17\n",
      "22      Jakarta Utara        PADEMANGAN           ANCOL               17\n",
      "24      Jakarta Barat         KALIDERES      TEGAL ALUR               16\n",
      "25      Jakarta Barat         KALIDERES      TEGAL ALUR               17\n",
      "26      Jakarta Barat         KALIDERES      TEGAL ALUR               18\n",
      "27      Jakarta Barat         KALIDERES      TEGAL ALUR               16\n",
      "33      Jakarta Barat        CENGKARENG           KAPUK               18\n",
      "34      Jakarta Barat        CENGKARENG           KAPUK               18\n",
      "39    Jakarta Selatan      PASAR MINGGU     JATI PADANG               01\n",
      "40    Jakarta Selatan      PASAR MINGGU     JATI PADANG               08\n",
      "45    Jakarta Selatan      PASAR MINGGU  CILANDAK TIMUR               08\n",
      "46    Jakarta Selatan      PASAR MINGGU  CILANDAK TIMUR               08\n",
      "47    Jakarta Selatan      PASAR MINGGU       KEBAGUSAN               08\n",
      "48    Jakarta Selatan      PASAR MINGGU       KEBAGUSAN               08\n",
      "49    Jakarta Selatan      PASAR MINGGU       KEBAGUSAN               24\n",
      "50    Jakarta Selatan      PASAR MINGGU   PEJATEN BARAT               08\n",
      "51    Jakarta Selatan      PASAR MINGGU   PEJATEN BARAT               08\n",
      "59    Jakarta Selatan          PANCORAN        KALIBATA               08\n",
      "60    Jakarta Selatan          PANCORAN        KALIBATA               08\n",
      "62    Jakarta Selatan          PANCORAN        KALIBATA               25\n",
      "63    Jakarta Selatan          PANCORAN        RAWAJATI               25\n",
      "64    Jakarta Selatan         JAGAKARSA       JAGAKARSA               08\n",
      "65    Jakarta Selatan         JAGAKARSA         CIPEDAK               08\n",
      "66    Jakarta Selatan         JAGAKARSA         CIPEDAK               08\n",
      "67    Jakarta Selatan    KEBAYORAN BARU       PETOGOGAN               08\n",
      "68    Jakarta Selatan  MAMPANG PRAPATAN          BANGKA               08\n",
      "69    Jakarta Selatan  MAMPANG PRAPATAN          BANGKA               08\n",
      "72    Jakarta Selatan  MAMPANG PRAPATAN    PELA MAMPANG               08\n",
      "73    Jakarta Selatan  MAMPANG PRAPATAN    PELA MAMPANG               08\n",
      "83    Jakarta Selatan             TEBET      KEBON BARU               25\n",
      "84      Jakarta Timur       DUREN SAWIT     DUREN SAWIT               01\n",
      "85      Jakarta Timur       DUREN SAWIT    PONDOK BAMBU               01\n",
      "86      Jakarta Timur       DUREN SAWIT    PONDOK BAMBU               01\n",
      "92      Jakarta Timur           CIRACAS         SUSUKAN               01\n",
      "93      Jakarta Timur        JATINEGARA  KAMPUNG MELAYU               01\n",
      "94      Jakarta Timur        JATINEGARA  KAMPUNG MELAYU               12\n",
      "96      Jakarta Timur        JATINEGARA  KAMPUNG MELAYU               01\n",
      "110     Jakarta Timur       KRAMAT JATI     BALEKAMBANG               08\n",
      "111     Jakarta Timur       KRAMAT JATI          CAWANG               12\n",
      "112     Jakarta Timur       KRAMAT JATI          CAWANG               12\n",
      "114     Jakarta Timur        PASAR REBO          GEDONG               25\n"
     ]
    }
   ],
   "source": [
    "print(data_normaliasi_tanggal[10])"
   ]
  },
  {
   "cell_type": "code",
   "execution_count": 17,
   "metadata": {},
   "outputs": [
    {
     "name": "stdout",
     "output_type": "stream",
     "text": [
      "          kelurahan  kejadian\n",
      "20            PLUIT         5\n",
      "62  CIPINANG MELAYU         4\n",
      "30      LEBAK BULUS         3\n",
      "41         RAWAJATI         3\n",
      "58   KAMPUNG MELAYU         3\n",
      "         kelurahan  kejadian\n",
      "22           KAPUK        10\n",
      "25      TEGAL ALUR         9\n",
      "59     BIDARA CINA         8\n",
      "61          CAWANG         8\n",
      "58  KAMPUNG MELAYU         6\n",
      "         kelurahan  kejadian\n",
      "58  KAMPUNG MELAYU        10\n",
      "61          CAWANG         9\n",
      "59     BIDARA CINA         8\n",
      "42   PEJATEN TIMUR         6\n",
      "34   PONDOK PINANG         5\n",
      "          kelurahan  kejadian\n",
      "34    PONDOK PINANG         3\n",
      "42    PEJATEN TIMUR         3\n",
      "46       KEBON BARU         3\n",
      "58   KAMPUNG MELAYU         3\n",
      "62  CIPINANG MELAYU         3\n",
      "         kelurahan  kejadian\n",
      "42   PEJATEN TIMUR         4\n",
      "41        RAWAJATI         3\n",
      "46      KEBON BARU         3\n",
      "58  KAMPUNG MELAYU         3\n",
      "34   PONDOK PINANG         2\n",
      "      kelurahan  kejadian\n",
      "20        PLUIT         7\n",
      "13      MARUNDA         3\n",
      "22        KAPUK         3\n",
      "77   PULAU PARI         3\n",
      "18  KAPUK MUARA         2\n",
      "                kelurahan  kejadian\n",
      "27              SRENGSENG         2\n",
      "75              PINANGSIA         2\n",
      "0              JOHAR BARU         0\n",
      "1   GUNUNG SAHARI SELATAN         0\n",
      "2                 SERDANG         0\n",
      "     kelurahan  kejadian\n",
      "11  PETAMBURAN         1\n",
      "13     MARUNDA         1\n",
      "22       KAPUK         1\n",
      "25  TEGAL ALUR         1\n",
      "38      BANGKA         1\n",
      "              kelurahan  kejadian\n",
      "22                KAPUK         3\n",
      "11           PETAMBURAN         2\n",
      "24  TANJUNG DUREN UTARA         2\n",
      "28             PALMERAH         2\n",
      "29          PONDOK LABU         2\n",
      "         kelurahan  kejadian\n",
      "35         CIPULIR         8\n",
      "38          BANGKA         8\n",
      "43         BINTARO         7\n",
      "34   PONDOK PINANG         5\n",
      "58  KAMPUNG MELAYU         5\n",
      "      kelurahan  kejadian\n",
      "25   TEGAL ALUR         4\n",
      "13      MARUNDA         3\n",
      "18  KAPUK MUARA         3\n",
      "19  PENJARINGAN         3\n",
      "40     KALIBATA         3\n",
      "         kelurahan  kejadian\n",
      "58  KAMPUNG MELAYU         3\n",
      "27       SRENGSENG         2\n",
      "42   PEJATEN TIMUR         2\n",
      "59     BIDARA CINA         2\n",
      "61          CAWANG         2\n"
     ]
    }
   ],
   "source": [
    "# 10\n",
    "for setiap_bulan in kasus_banjir_per_bulan:\n",
    "    print(setiap_bulan.nlargest(5, \"kejadian\"))"
   ]
  }
 ],
 "metadata": {
  "kernelspec": {
   "display_name": "Python 3",
   "language": "python",
   "name": "python3"
  },
  "language_info": {
   "codemirror_mode": {
    "name": "ipython",
    "version": 3
   },
   "file_extension": ".py",
   "mimetype": "text/x-python",
   "name": "python",
   "nbconvert_exporter": "python",
   "pygments_lexer": "ipython3",
   "version": "3.10.8"
  },
  "orig_nbformat": 4
 },
 "nbformat": 4,
 "nbformat_minor": 2
}
